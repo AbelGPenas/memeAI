{
  "nbformat": 4,
  "nbformat_minor": 0,
  "metadata": {
    "colab": {
      "name": "Wpp_image_cleaner.ipynb",
      "provenance": [],
      "toc_visible": true,
      "authorship_tag": "ABX9TyO8t/iP3MPe9dtVrP/PPfsD",
      "include_colab_link": true
    },
    "kernelspec": {
      "name": "python3",
      "display_name": "Python 3"
    },
    "language_info": {
      "name": "python"
    },
    "accelerator": "GPU"
  },
  "cells": [
    {
      "cell_type": "markdown",
      "metadata": {
        "id": "view-in-github",
        "colab_type": "text"
      },
      "source": [
        "<a href=\"https://colab.research.google.com/github/AbelGPenas/memeAI/blob/main/memeAI_Proof-of-concept.ipynb\" target=\"_parent\"><img src=\"https://colab.research.google.com/assets/colab-badge.svg\" alt=\"Open In Colab\"/></a>"
      ]
    },
    {
      "cell_type": "markdown",
      "metadata": {
        "id": "8Z8z7NWaQt7G"
      },
      "source": [
        "# 1- Environment set-up"
      ]
    },
    {
      "cell_type": "markdown",
      "metadata": {
        "id": "JzCzCWiHIJI3"
      },
      "source": [
        "Mount the drive image to store the dataset."
      ]
    },
    {
      "cell_type": "code",
      "metadata": {
        "colab": {
          "base_uri": "https://localhost:8080/"
        },
        "id": "k-XKREZtSxz2",
        "outputId": "d87de6c8-ed7a-43ed-aab2-1e4a0cd5bf39"
      },
      "source": [
        "from google.colab import drive\n",
        "drive.mount('/content/drive')"
      ],
      "execution_count": 1,
      "outputs": [
        {
          "output_type": "stream",
          "text": [
            "Mounted at /content/drive\n"
          ],
          "name": "stdout"
        }
      ]
    },
    {
      "cell_type": "markdown",
      "metadata": {
        "id": "vnOnbspXIS-7"
      },
      "source": [
        "Switch to the project dataset"
      ]
    },
    {
      "cell_type": "code",
      "metadata": {
        "colab": {
          "base_uri": "https://localhost:8080/"
        },
        "id": "S9vQ2c31TdBK",
        "outputId": "bc9a0da2-b144-4518-c1ea-260cb90fba41"
      },
      "source": [
        "%cd /content/drive/MyDrive/Projects/MemeAI/"
      ],
      "execution_count": 2,
      "outputs": [
        {
          "output_type": "stream",
          "text": [
            "/content/drive/MyDrive/Projects/MemeAI\n"
          ],
          "name": "stdout"
        }
      ]
    },
    {
      "cell_type": "code",
      "metadata": {
        "id": "qPepapjGQpqX"
      },
      "source": [
        "%matplotlib inline"
      ],
      "execution_count": 3,
      "outputs": []
    },
    {
      "cell_type": "markdown",
      "metadata": {
        "id": "O4w0sC-6JaSi"
      },
      "source": [
        "## 1.1- Import dataset from Drive to the notebook environment"
      ]
    },
    {
      "cell_type": "markdown",
      "metadata": {
        "id": "7MuW3XYkJKQa"
      },
      "source": [
        "Create a folder with the two class folders inside (easing the use of the ImageFolder class in Pytorch). The images are imported from drive."
      ]
    },
    {
      "cell_type": "code",
      "metadata": {
        "id": "cOqHrKj5ALOl"
      },
      "source": [
        "!mkdir /content/meme_images/"
      ],
      "execution_count": 4,
      "outputs": []
    },
    {
      "cell_type": "code",
      "metadata": {
        "id": "7dYKjO3ro2xO"
      },
      "source": [
        "!cp -r ./meme/ /content/meme_images/meme/\n",
        "!cp -r ./valuable/ /content/meme_images/valuable/"
      ],
      "execution_count": 5,
      "outputs": []
    },
    {
      "cell_type": "markdown",
      "metadata": {
        "id": "_sRLxztrkvkg"
      },
      "source": [
        "# 2- Description of the dataset and problem"
      ]
    },
    {
      "cell_type": "markdown",
      "metadata": {
        "id": "2KwA454IkziA"
      },
      "source": [
        "The goal of this CNN is to save me some work filtering out the images I dont want to keep in my whats app media folder. This undesired images comprise:\n",
        "* Screenshots from news, chats and social media. *Yep, we all send and receive this kind of stuff and remains there forever*.\n",
        "* Memes. *Sometimes they are brilliant, but I already have google if I need them*.\n",
        "* Those images with corny texts that your mum sends you to inspire you. *Cute but not enough to keep them forever*.\n",
        "\n",
        "What I want to keep:\n",
        "* Proper pictures. *Yep, maybe those are pictures from god knows who in a wpp group lost in the shadow of time, but lets make things a bit simpler for this poor AI*.\n",
        "\n",
        "Some few images can be seen in [section 5.2](https://colab.research.google.com/drive/1cmgaPrUzelnkEt6DYJ5Xl6dWgJ8W94AK#scrollTo=g8VTxcobkiND)"
      ]
    },
    {
      "cell_type": "markdown",
      "metadata": {
        "id": "eMQ2_QdlXeRC"
      },
      "source": [
        "# 3- Designing the CNN (Pytorch)"
      ]
    },
    {
      "cell_type": "markdown",
      "metadata": {
        "id": "15Bi8AfddR7H"
      },
      "source": [
        "## 3.1- Deep learning environment set-up"
      ]
    },
    {
      "cell_type": "markdown",
      "metadata": {
        "id": "DB070WzAJzo5"
      },
      "source": [
        "Set up the environment with the relevant libraries"
      ]
    },
    {
      "cell_type": "code",
      "metadata": {
        "colab": {
          "base_uri": "https://localhost:8080/"
        },
        "id": "TC7Y5-aOXo2n",
        "outputId": "5ab6b4c2-fb7b-4c99-9d3b-1f3662f234d9"
      },
      "source": [
        "import torch\n",
        "import torch.nn as nn\n",
        "import torch.nn.functional as F\n",
        "from torchvision import datasets, transforms\n",
        "from torch.utils.data import DataLoader, Subset\n",
        "import os\n",
        "\n",
        "import numpy as np\n",
        "import matplotlib.pyplot as plt\n",
        "from sklearn.model_selection import train_test_split\n",
        "if torch.cuda.is_available():\n",
        "    device = torch.device('cuda')\n",
        "else:\n",
        "    device = torch.device('cpu')\n",
        "    \n",
        "print('Using PyTorch version:', torch.__version__, ' Device:', device)"
      ],
      "execution_count": 6,
      "outputs": [
        {
          "output_type": "stream",
          "text": [
            "Using PyTorch version: 1.9.0+cu102  Device: cuda\n"
          ],
          "name": "stdout"
        }
      ]
    },
    {
      "cell_type": "markdown",
      "metadata": {
        "id": "m96FsqMsL7oQ"
      },
      "source": [
        "## 3.2- Data loading"
      ]
    },
    {
      "cell_type": "markdown",
      "metadata": {
        "id": "M0bDAOb2J8HC"
      },
      "source": [
        "The Images are loader with the ImageFolder class, with automatically labels them as a function of the name of the folder in which they are contained.\n",
        "\n",
        "Some transformations are applied:\n",
        "* Fix the image size into a 256x256 square\n",
        "* Convert into a tensor.\n",
        "* Normalize the tensor values with mean and std deviation of 0.5"
      ]
    },
    {
      "cell_type": "code",
      "metadata": {
        "id": "NED4AupdKFH6"
      },
      "source": [
        "root_dir = '/content/meme_images/'\n",
        "transform = transforms.Compose([\n",
        "    transforms.Resize((256, 256)),\n",
        "    transforms.ToTensor(),\n",
        "    transforms.Normalize((0.5, 0.5, 0.5), (0.5, 0.5, 0.5))\n",
        "])\n",
        "\n",
        "dataset = datasets.ImageFolder(root=root_dir, transform=transform)"
      ],
      "execution_count": 7,
      "outputs": []
    },
    {
      "cell_type": "markdown",
      "metadata": {
        "id": "EKOAmpIPLXYk"
      },
      "source": [
        "We define the batch size of the training loader as 32. We **stratify** the split between train and validation, so every set has the same proportions of observations from each class.\n",
        "\n",
        "The whole dataset is subsetted regarding these stratified indeces, and 2 dataloader classes are instantiated from these subsets."
      ]
    },
    {
      "cell_type": "code",
      "metadata": {
        "id": "KglsYNTp_Bih"
      },
      "source": [
        "batch_size=128\n",
        "\n",
        "train_index, val_index = train_test_split(\n",
        "    np.arange(len(dataset.targets)),\n",
        "    test_size=0.2,\n",
        "    shuffle=True,\n",
        "    stratify=dataset.targets\n",
        ")\n",
        "val_set = Subset(dataset, val_index)\n",
        "train_set = Subset(dataset, train_index)\n",
        "\n",
        "train_loader = DataLoader(dataset=train_set, \n",
        "                          batch_size=batch_size, \n",
        "                          shuffle=True,\n",
        "                          num_workers=2)\n",
        "\n",
        "validation_loader = DataLoader(dataset=val_set, \n",
        "                               batch_size=len(val_index), \n",
        "                               shuffle=False,\n",
        "                               num_workers=2)"
      ],
      "execution_count": 8,
      "outputs": []
    },
    {
      "cell_type": "markdown",
      "metadata": {
        "id": "k4A1UQQNMBIK"
      },
      "source": [
        "## 3.3- Model building"
      ]
    },
    {
      "cell_type": "markdown",
      "metadata": {
        "id": "TwUL5S4qL4Kn"
      },
      "source": [
        "A convolution neural network is built with 3 layers of convolutions and 3 ReLu activated linear layers until deriving into 3 output nodes.\n",
        "\n",
        "Max pooling is including in the architechture after each convolutional layer.\n",
        "\n",
        "Regularization by dropout is included for the linear layers."
      ]
    },
    {
      "cell_type": "code",
      "metadata": {
        "colab": {
          "base_uri": "https://localhost:8080/"
        },
        "id": "_InVNfW4PlQw",
        "outputId": "95691537-5b27-45d0-cb5d-270843f60f67"
      },
      "source": [
        "class Net(nn.Module):\n",
        "    def __init__(self):\n",
        "        super(Net, self).__init__()\n",
        "        self.conv1 = nn.Conv2d(3, 9, 5) #From 3 to 9 channels, 5x5 kernel -> 9,252,252\n",
        "        self.pool = nn.MaxPool2d(2, 2) # 2x2 maxPooling -> 9,126,126\n",
        "        self.conv2 = nn.Conv2d(9, 18, 5) # 9 to 18 channels, 5x5 kernel -> 18,122,122\n",
        "        # -> 18,61,61\n",
        "        self.conv3 = nn.Conv2d(18, 36, 6) # 18 to 36 channels, 6x6 kernel -> 36,56,56\n",
        "        # -> 36,28,28\n",
        "        self.fc1 = nn.Linear(36 * 28 * 28, 120)\n",
        "        self.fc1_drop = nn.Dropout(0.2)\n",
        "        self.fc2 = nn.Linear(120, 84)\n",
        "        self.fc2_drop = nn.Dropout(0.2)\n",
        "        self.fc3 = nn.Linear(84, 2)\n",
        "\n",
        "    def forward(self, x):\n",
        "        x = self.pool(F.relu(self.conv1(x)))\n",
        "        x = self.pool(F.relu(self.conv2(x)))\n",
        "        x = self.pool(F.relu(self.conv3(x)))\n",
        "        x = x.view(-1, 36*28*28)\n",
        "        x = F.relu(self.fc1(x))\n",
        "        x = self.fc1_drop(x)\n",
        "        x = F.relu(self.fc2(x))\n",
        "        x = self.fc2_drop(x)\n",
        "        x = self.fc3(x)\n",
        "        return x\n",
        "\n",
        "model = Net().to(device)\n",
        "optimizer = torch.optim.SGD(model.parameters(), lr=0.01, momentum=0.9)\n",
        "criterion = nn.CrossEntropyLoss()\n",
        "\n",
        "print(model)"
      ],
      "execution_count": 9,
      "outputs": [
        {
          "output_type": "stream",
          "text": [
            "Net(\n",
            "  (conv1): Conv2d(3, 9, kernel_size=(5, 5), stride=(1, 1))\n",
            "  (pool): MaxPool2d(kernel_size=2, stride=2, padding=0, dilation=1, ceil_mode=False)\n",
            "  (conv2): Conv2d(9, 18, kernel_size=(5, 5), stride=(1, 1))\n",
            "  (conv3): Conv2d(18, 36, kernel_size=(6, 6), stride=(1, 1))\n",
            "  (fc1): Linear(in_features=28224, out_features=120, bias=True)\n",
            "  (fc1_drop): Dropout(p=0.2, inplace=False)\n",
            "  (fc2): Linear(in_features=120, out_features=84, bias=True)\n",
            "  (fc2_drop): Dropout(p=0.2, inplace=False)\n",
            "  (fc3): Linear(in_features=84, out_features=2, bias=True)\n",
            ")\n"
          ],
          "name": "stdout"
        }
      ]
    },
    {
      "cell_type": "markdown",
      "metadata": {
        "id": "T9t8Y3skMkkC"
      },
      "source": [
        "In the summary below it is possible to see the structure of the CNN, as well as the dimensions of each layer."
      ]
    },
    {
      "cell_type": "code",
      "metadata": {
        "colab": {
          "base_uri": "https://localhost:8080/"
        },
        "id": "yJ5imnb9P3R8",
        "outputId": "5b517866-6cdd-4f7c-a195-60985edfd0b0"
      },
      "source": [
        "from torchsummary import summary\n",
        "\n",
        "input_shape = (3,256,256)\n",
        "summary(Net().cuda(), input_shape)"
      ],
      "execution_count": 10,
      "outputs": [
        {
          "output_type": "stream",
          "text": [
            "----------------------------------------------------------------\n",
            "        Layer (type)               Output Shape         Param #\n",
            "================================================================\n",
            "            Conv2d-1          [-1, 9, 252, 252]             684\n",
            "         MaxPool2d-2          [-1, 9, 126, 126]               0\n",
            "            Conv2d-3         [-1, 18, 122, 122]           4,068\n",
            "         MaxPool2d-4           [-1, 18, 61, 61]               0\n",
            "            Conv2d-5           [-1, 36, 56, 56]          23,364\n",
            "         MaxPool2d-6           [-1, 36, 28, 28]               0\n",
            "            Linear-7                  [-1, 120]       3,387,000\n",
            "           Dropout-8                  [-1, 120]               0\n",
            "            Linear-9                   [-1, 84]          10,164\n",
            "          Dropout-10                   [-1, 84]               0\n",
            "           Linear-11                    [-1, 2]             170\n",
            "================================================================\n",
            "Total params: 3,425,450\n",
            "Trainable params: 3,425,450\n",
            "Non-trainable params: 0\n",
            "----------------------------------------------------------------\n",
            "Input size (MB): 0.75\n",
            "Forward/backward pass size (MB): 9.09\n",
            "Params size (MB): 13.07\n",
            "Estimated Total Size (MB): 22.90\n",
            "----------------------------------------------------------------\n"
          ],
          "name": "stdout"
        },
        {
          "output_type": "stream",
          "text": [
            "/usr/local/lib/python3.7/dist-packages/torch/nn/functional.py:718: UserWarning: Named tensors and all their associated APIs are an experimental feature and subject to change. Please do not use them for anything important until they are released as stable. (Triggered internally at  /pytorch/c10/core/TensorImpl.h:1156.)\n",
            "  return torch.max_pool2d(input, kernel_size, stride, padding, dilation, ceil_mode)\n"
          ],
          "name": "stderr"
        }
      ]
    },
    {
      "cell_type": "markdown",
      "metadata": {
        "id": "XRjOM6BxNgbe"
      },
      "source": [
        "Two functions are defined to train and test the model. The train function will:\n",
        "* Set the model in train() mode.\n",
        "* Load the data into the GPU used.\n",
        "* Set the gradients to zero before triggering the backpropagation.\n",
        "* Pass the data through the network.\n",
        "+ Calculate the model Crossentropy loss comparing with the labels.\n",
        "* Trigger the backpropagation.\n",
        "* Update the model parameters based ont he calculated gradient.\n",
        "* Print a progress update.\n",
        "* Return the average loss for the epoch (excluding the last batch, with few samples).\n"
      ]
    },
    {
      "cell_type": "code",
      "metadata": {
        "id": "JicLhUveQeAd"
      },
      "source": [
        "def train(model, optimizer, epoch):\n",
        "    # Set model to training mode\n",
        "    model.train()\n",
        "    loss_vect = []\n",
        "    # Loop over each batch from the training set\n",
        "    for batch_idx, (data, target) in enumerate(train_loader):\n",
        "\n",
        "        # Copy data to GPU\n",
        "        data = data.to(device)\n",
        "        target = target.to(device)\n",
        "        # Zero gradient buffers\n",
        "        optimizer.zero_grad() \n",
        "        \n",
        "        # Pass data through the network\n",
        "        output = model(data)\n",
        "\n",
        "        # Calculate loss\n",
        "        loss = criterion(output, target)\n",
        "\n",
        "        # Backpropagate\n",
        "        loss.backward()\n",
        "        \n",
        "        loss_vect.append(loss.data.item())\n",
        "        # Update weights\n",
        "        optimizer.step()\n",
        "        \n",
        "\n",
        "        print('Train Epoch: {} [{}/{} ({:.0f}%)]\\tLoss: {:.6f}'.format(\n",
        "            epoch, batch_idx * len(data), len(train_loader.dataset),\n",
        "            100. * batch_idx / len(train_loader), loss.data.item()))\n",
        "\n",
        "    return np.mean(loss_vect[:-1])"
      ],
      "execution_count": 11,
      "outputs": []
    },
    {
      "cell_type": "markdown",
      "metadata": {
        "id": "k953i36lO01D"
      },
      "source": [
        "On its side, the validate function:\n",
        "* Sets the model in evaluation mode.\n",
        "* Uploads the images and labels to the GPU.\n",
        "* Computes hte average loss and the accuracy of the model on the validation set.\n",
        "* Print the results on the screen and return the loss, the accuracy and the output instance."
      ]
    },
    {
      "cell_type": "code",
      "metadata": {
        "id": "ShmajWmBQy__"
      },
      "source": [
        "def validate(model, loss_vector, accuracy_vector):\n",
        "    train_loss = model.eval()\n",
        "    val_loss, correct = 0, 0\n",
        "    for data, target in validation_loader:\n",
        "        data = data.to(device)\n",
        "        target = target.to(device)\n",
        "        output = model(data)\n",
        "        val_loss += criterion(output, target).data.item()\n",
        "        pred = output.data.max(1)[1] # get the index of the max log-probability\n",
        "        correct += pred.eq(target.data).cpu().sum()\n",
        "\n",
        "    val_loss /= len(validation_loader)\n",
        "    loss_vector.append(val_loss)\n",
        "\n",
        "    accuracy = 100. * correct.to(torch.float32) / len(validation_loader.dataset)\n",
        "    accuracy_vector.append(accuracy)\n",
        "    \n",
        "    print('\\nValidation set: Average loss: {:.4f}, Accuracy: {}/{} ({:.0f}%)\\n'.format(\n",
        "        val_loss, correct, len(validation_loader.dataset), accuracy))\n",
        "    return val_loss, float(accuracy), output\n"
      ],
      "execution_count": 12,
      "outputs": []
    },
    {
      "cell_type": "markdown",
      "metadata": {
        "id": "NCvijGYh0Xmg"
      },
      "source": [
        "# 4- Run the experiment"
      ]
    },
    {
      "cell_type": "markdown",
      "metadata": {
        "id": "w2Z4ig9Zj8T6"
      },
      "source": [
        "We define the number of epochs for the training and create a dict to gather the metrics during the training."
      ]
    },
    {
      "cell_type": "code",
      "metadata": {
        "id": "1wDsAasrAMMZ"
      },
      "source": [
        "epochs = 24\n",
        "\n",
        "lossv, accv = [], []\n",
        "exp_dict = {\n",
        "    'validation_accuracy': [],\n",
        "    'train_loss': [],\n",
        "    'validation_loss': []\n",
        "}"
      ],
      "execution_count": 13,
      "outputs": []
    },
    {
      "cell_type": "markdown",
      "metadata": {
        "id": "q0ttqP4_kHQz"
      },
      "source": [
        "The model is trained and evaluated epoch by epoch. \n",
        "\n",
        "At each iteration, we print the loss and the progress of the training and the loss and accuracy on the test dataset."
      ]
    },
    {
      "cell_type": "code",
      "metadata": {
        "colab": {
          "base_uri": "https://localhost:8080/"
        },
        "id": "5F8xlJ78Q8w9",
        "outputId": "38e7cde9-00e9-4b09-d4e0-c88bd8c682b6"
      },
      "source": [
        "%%time\n",
        "\n",
        "for epoch in range(1, epochs + 1):\n",
        "    train_loss = train(model, optimizer, epoch)\n",
        "    val_loss, val_acc, output = validate(model, lossv, accv)\n",
        "    for key, value in zip(exp_dict.keys(), [val_acc, train_loss, val_loss]):\n",
        "      exp_dict[key].append(value)"
      ],
      "execution_count": 14,
      "outputs": [
        {
          "output_type": "stream",
          "text": [
            "Train Epoch: 1 [0/2244 (0%)]\tLoss: 0.691714\n",
            "Train Epoch: 1 [128/2244 (6%)]\tLoss: 0.689462\n",
            "Train Epoch: 1 [256/2244 (11%)]\tLoss: 0.685665\n",
            "Train Epoch: 1 [384/2244 (17%)]\tLoss: 0.682609\n",
            "Train Epoch: 1 [512/2244 (22%)]\tLoss: 0.678083\n",
            "Train Epoch: 1 [640/2244 (28%)]\tLoss: 0.665384\n",
            "Train Epoch: 1 [768/2244 (33%)]\tLoss: 0.683125\n",
            "Train Epoch: 1 [896/2244 (39%)]\tLoss: 0.669124\n",
            "Train Epoch: 1 [1024/2244 (44%)]\tLoss: 0.659710\n",
            "Train Epoch: 1 [1152/2244 (50%)]\tLoss: 0.618602\n",
            "Train Epoch: 1 [1280/2244 (56%)]\tLoss: 0.647183\n",
            "Train Epoch: 1 [1408/2244 (61%)]\tLoss: 0.617083\n",
            "Train Epoch: 1 [1536/2244 (67%)]\tLoss: 0.608171\n",
            "Train Epoch: 1 [1664/2244 (72%)]\tLoss: 0.692449\n",
            "Train Epoch: 1 [1792/2244 (78%)]\tLoss: 0.721657\n",
            "Train Epoch: 1 [1920/2244 (83%)]\tLoss: 0.605882\n",
            "Train Epoch: 1 [2048/2244 (89%)]\tLoss: 0.657503\n",
            "Train Epoch: 1 [1156/2244 (94%)]\tLoss: 0.571179\n",
            "\n",
            "Validation set: Average loss: 0.6069, Accuracy: 322/561 (57%)\n",
            "\n",
            "Train Epoch: 2 [0/2244 (0%)]\tLoss: 0.627579\n",
            "Train Epoch: 2 [128/2244 (6%)]\tLoss: 0.608929\n",
            "Train Epoch: 2 [256/2244 (11%)]\tLoss: 0.621986\n",
            "Train Epoch: 2 [384/2244 (17%)]\tLoss: 0.581987\n",
            "Train Epoch: 2 [512/2244 (22%)]\tLoss: 0.539804\n",
            "Train Epoch: 2 [640/2244 (28%)]\tLoss: 0.558434\n",
            "Train Epoch: 2 [768/2244 (33%)]\tLoss: 0.577779\n",
            "Train Epoch: 2 [896/2244 (39%)]\tLoss: 0.549534\n",
            "Train Epoch: 2 [1024/2244 (44%)]\tLoss: 0.541384\n",
            "Train Epoch: 2 [1152/2244 (50%)]\tLoss: 0.576195\n",
            "Train Epoch: 2 [1280/2244 (56%)]\tLoss: 0.546614\n",
            "Train Epoch: 2 [1408/2244 (61%)]\tLoss: 0.503246\n",
            "Train Epoch: 2 [1536/2244 (67%)]\tLoss: 0.520147\n",
            "Train Epoch: 2 [1664/2244 (72%)]\tLoss: 0.523040\n",
            "Train Epoch: 2 [1792/2244 (78%)]\tLoss: 0.516605\n",
            "Train Epoch: 2 [1920/2244 (83%)]\tLoss: 0.507255\n",
            "Train Epoch: 2 [2048/2244 (89%)]\tLoss: 0.498806\n",
            "Train Epoch: 2 [1156/2244 (94%)]\tLoss: 0.525223\n",
            "\n",
            "Validation set: Average loss: 0.5412, Accuracy: 384/561 (68%)\n",
            "\n",
            "Train Epoch: 3 [0/2244 (0%)]\tLoss: 0.479574\n",
            "Train Epoch: 3 [128/2244 (6%)]\tLoss: 0.482335\n",
            "Train Epoch: 3 [256/2244 (11%)]\tLoss: 0.488436\n",
            "Train Epoch: 3 [384/2244 (17%)]\tLoss: 0.490954\n",
            "Train Epoch: 3 [512/2244 (22%)]\tLoss: 0.475940\n",
            "Train Epoch: 3 [640/2244 (28%)]\tLoss: 0.427658\n",
            "Train Epoch: 3 [768/2244 (33%)]\tLoss: 0.468501\n",
            "Train Epoch: 3 [896/2244 (39%)]\tLoss: 0.524588\n",
            "Train Epoch: 3 [1024/2244 (44%)]\tLoss: 0.441167\n",
            "Train Epoch: 3 [1152/2244 (50%)]\tLoss: 0.454089\n",
            "Train Epoch: 3 [1280/2244 (56%)]\tLoss: 0.459237\n",
            "Train Epoch: 3 [1408/2244 (61%)]\tLoss: 0.473347\n",
            "Train Epoch: 3 [1536/2244 (67%)]\tLoss: 0.448767\n",
            "Train Epoch: 3 [1664/2244 (72%)]\tLoss: 0.519395\n",
            "Train Epoch: 3 [1792/2244 (78%)]\tLoss: 0.567550\n",
            "Train Epoch: 3 [1920/2244 (83%)]\tLoss: 0.479465\n",
            "Train Epoch: 3 [2048/2244 (89%)]\tLoss: 0.457414\n",
            "Train Epoch: 3 [1156/2244 (94%)]\tLoss: 0.537589\n",
            "\n",
            "Validation set: Average loss: 0.5064, Accuracy: 411/561 (73%)\n",
            "\n",
            "Train Epoch: 4 [0/2244 (0%)]\tLoss: 0.482851\n",
            "Train Epoch: 4 [128/2244 (6%)]\tLoss: 0.515256\n",
            "Train Epoch: 4 [256/2244 (11%)]\tLoss: 0.432301\n",
            "Train Epoch: 4 [384/2244 (17%)]\tLoss: 0.471637\n",
            "Train Epoch: 4 [512/2244 (22%)]\tLoss: 0.463643\n",
            "Train Epoch: 4 [640/2244 (28%)]\tLoss: 0.402839\n",
            "Train Epoch: 4 [768/2244 (33%)]\tLoss: 0.446936\n",
            "Train Epoch: 4 [896/2244 (39%)]\tLoss: 0.427171\n",
            "Train Epoch: 4 [1024/2244 (44%)]\tLoss: 0.450393\n",
            "Train Epoch: 4 [1152/2244 (50%)]\tLoss: 0.413034\n",
            "Train Epoch: 4 [1280/2244 (56%)]\tLoss: 0.435299\n",
            "Train Epoch: 4 [1408/2244 (61%)]\tLoss: 0.416443\n",
            "Train Epoch: 4 [1536/2244 (67%)]\tLoss: 0.425644\n",
            "Train Epoch: 4 [1664/2244 (72%)]\tLoss: 0.457539\n",
            "Train Epoch: 4 [1792/2244 (78%)]\tLoss: 0.449847\n",
            "Train Epoch: 4 [1920/2244 (83%)]\tLoss: 0.417319\n",
            "Train Epoch: 4 [2048/2244 (89%)]\tLoss: 0.543216\n",
            "Train Epoch: 4 [1156/2244 (94%)]\tLoss: 0.347798\n",
            "\n",
            "Validation set: Average loss: 0.5365, Accuracy: 420/561 (75%)\n",
            "\n",
            "Train Epoch: 5 [0/2244 (0%)]\tLoss: 0.455206\n",
            "Train Epoch: 5 [128/2244 (6%)]\tLoss: 0.465378\n",
            "Train Epoch: 5 [256/2244 (11%)]\tLoss: 0.516562\n",
            "Train Epoch: 5 [384/2244 (17%)]\tLoss: 0.387867\n",
            "Train Epoch: 5 [512/2244 (22%)]\tLoss: 0.454059\n",
            "Train Epoch: 5 [640/2244 (28%)]\tLoss: 0.373788\n",
            "Train Epoch: 5 [768/2244 (33%)]\tLoss: 0.337901\n",
            "Train Epoch: 5 [896/2244 (39%)]\tLoss: 0.451800\n",
            "Train Epoch: 5 [1024/2244 (44%)]\tLoss: 0.498067\n",
            "Train Epoch: 5 [1152/2244 (50%)]\tLoss: 0.406714\n",
            "Train Epoch: 5 [1280/2244 (56%)]\tLoss: 0.380505\n",
            "Train Epoch: 5 [1408/2244 (61%)]\tLoss: 0.511350\n",
            "Train Epoch: 5 [1536/2244 (67%)]\tLoss: 0.412799\n",
            "Train Epoch: 5 [1664/2244 (72%)]\tLoss: 0.446142\n",
            "Train Epoch: 5 [1792/2244 (78%)]\tLoss: 0.508668\n",
            "Train Epoch: 5 [1920/2244 (83%)]\tLoss: 0.487436\n",
            "Train Epoch: 5 [2048/2244 (89%)]\tLoss: 0.369206\n",
            "Train Epoch: 5 [1156/2244 (94%)]\tLoss: 0.349443\n",
            "\n",
            "Validation set: Average loss: 0.4867, Accuracy: 419/561 (75%)\n",
            "\n",
            "Train Epoch: 6 [0/2244 (0%)]\tLoss: 0.388382\n",
            "Train Epoch: 6 [128/2244 (6%)]\tLoss: 0.469582\n",
            "Train Epoch: 6 [256/2244 (11%)]\tLoss: 0.498871\n",
            "Train Epoch: 6 [384/2244 (17%)]\tLoss: 0.550377\n",
            "Train Epoch: 6 [512/2244 (22%)]\tLoss: 0.424566\n",
            "Train Epoch: 6 [640/2244 (28%)]\tLoss: 0.329516\n",
            "Train Epoch: 6 [768/2244 (33%)]\tLoss: 0.454012\n",
            "Train Epoch: 6 [896/2244 (39%)]\tLoss: 0.462656\n",
            "Train Epoch: 6 [1024/2244 (44%)]\tLoss: 0.389190\n",
            "Train Epoch: 6 [1152/2244 (50%)]\tLoss: 0.434264\n",
            "Train Epoch: 6 [1280/2244 (56%)]\tLoss: 0.410328\n",
            "Train Epoch: 6 [1408/2244 (61%)]\tLoss: 0.438905\n",
            "Train Epoch: 6 [1536/2244 (67%)]\tLoss: 0.456277\n",
            "Train Epoch: 6 [1664/2244 (72%)]\tLoss: 0.392324\n",
            "Train Epoch: 6 [1792/2244 (78%)]\tLoss: 0.322111\n",
            "Train Epoch: 6 [1920/2244 (83%)]\tLoss: 0.380252\n",
            "Train Epoch: 6 [2048/2244 (89%)]\tLoss: 0.407063\n",
            "Train Epoch: 6 [1156/2244 (94%)]\tLoss: 0.501179\n",
            "\n",
            "Validation set: Average loss: 0.4856, Accuracy: 425/561 (76%)\n",
            "\n",
            "Train Epoch: 7 [0/2244 (0%)]\tLoss: 0.528425\n",
            "Train Epoch: 7 [128/2244 (6%)]\tLoss: 0.334048\n",
            "Train Epoch: 7 [256/2244 (11%)]\tLoss: 0.462036\n",
            "Train Epoch: 7 [384/2244 (17%)]\tLoss: 0.399975\n",
            "Train Epoch: 7 [512/2244 (22%)]\tLoss: 0.375740\n",
            "Train Epoch: 7 [640/2244 (28%)]\tLoss: 0.467660\n",
            "Train Epoch: 7 [768/2244 (33%)]\tLoss: 0.366133\n",
            "Train Epoch: 7 [896/2244 (39%)]\tLoss: 0.385601\n",
            "Train Epoch: 7 [1024/2244 (44%)]\tLoss: 0.352349\n",
            "Train Epoch: 7 [1152/2244 (50%)]\tLoss: 0.341752\n",
            "Train Epoch: 7 [1280/2244 (56%)]\tLoss: 0.387998\n",
            "Train Epoch: 7 [1408/2244 (61%)]\tLoss: 0.383110\n",
            "Train Epoch: 7 [1536/2244 (67%)]\tLoss: 0.446622\n",
            "Train Epoch: 7 [1664/2244 (72%)]\tLoss: 0.360484\n",
            "Train Epoch: 7 [1792/2244 (78%)]\tLoss: 0.404804\n",
            "Train Epoch: 7 [1920/2244 (83%)]\tLoss: 0.402611\n",
            "Train Epoch: 7 [2048/2244 (89%)]\tLoss: 0.370896\n",
            "Train Epoch: 7 [1156/2244 (94%)]\tLoss: 0.302303\n",
            "\n",
            "Validation set: Average loss: 0.4741, Accuracy: 428/561 (76%)\n",
            "\n",
            "Train Epoch: 8 [0/2244 (0%)]\tLoss: 0.378122\n",
            "Train Epoch: 8 [128/2244 (6%)]\tLoss: 0.283484\n",
            "Train Epoch: 8 [256/2244 (11%)]\tLoss: 0.398597\n",
            "Train Epoch: 8 [384/2244 (17%)]\tLoss: 0.423908\n",
            "Train Epoch: 8 [512/2244 (22%)]\tLoss: 0.403783\n",
            "Train Epoch: 8 [640/2244 (28%)]\tLoss: 0.401587\n",
            "Train Epoch: 8 [768/2244 (33%)]\tLoss: 0.374425\n",
            "Train Epoch: 8 [896/2244 (39%)]\tLoss: 0.425305\n",
            "Train Epoch: 8 [1024/2244 (44%)]\tLoss: 0.404715\n",
            "Train Epoch: 8 [1152/2244 (50%)]\tLoss: 0.383511\n",
            "Train Epoch: 8 [1280/2244 (56%)]\tLoss: 0.408252\n",
            "Train Epoch: 8 [1408/2244 (61%)]\tLoss: 0.452200\n",
            "Train Epoch: 8 [1536/2244 (67%)]\tLoss: 0.424855\n",
            "Train Epoch: 8 [1664/2244 (72%)]\tLoss: 0.375659\n",
            "Train Epoch: 8 [1792/2244 (78%)]\tLoss: 0.393701\n",
            "Train Epoch: 8 [1920/2244 (83%)]\tLoss: 0.373708\n",
            "Train Epoch: 8 [2048/2244 (89%)]\tLoss: 0.343462\n",
            "Train Epoch: 8 [1156/2244 (94%)]\tLoss: 0.418052\n",
            "\n",
            "Validation set: Average loss: 0.4968, Accuracy: 434/561 (77%)\n",
            "\n",
            "Train Epoch: 9 [0/2244 (0%)]\tLoss: 0.349992\n",
            "Train Epoch: 9 [128/2244 (6%)]\tLoss: 0.315233\n",
            "Train Epoch: 9 [256/2244 (11%)]\tLoss: 0.406544\n",
            "Train Epoch: 9 [384/2244 (17%)]\tLoss: 0.511150\n",
            "Train Epoch: 9 [512/2244 (22%)]\tLoss: 0.401296\n",
            "Train Epoch: 9 [640/2244 (28%)]\tLoss: 0.430831\n",
            "Train Epoch: 9 [768/2244 (33%)]\tLoss: 0.386308\n",
            "Train Epoch: 9 [896/2244 (39%)]\tLoss: 0.393413\n",
            "Train Epoch: 9 [1024/2244 (44%)]\tLoss: 0.357476\n",
            "Train Epoch: 9 [1152/2244 (50%)]\tLoss: 0.493652\n",
            "Train Epoch: 9 [1280/2244 (56%)]\tLoss: 0.343628\n",
            "Train Epoch: 9 [1408/2244 (61%)]\tLoss: 0.327961\n",
            "Train Epoch: 9 [1536/2244 (67%)]\tLoss: 0.398127\n",
            "Train Epoch: 9 [1664/2244 (72%)]\tLoss: 0.419891\n",
            "Train Epoch: 9 [1792/2244 (78%)]\tLoss: 0.319343\n",
            "Train Epoch: 9 [1920/2244 (83%)]\tLoss: 0.388141\n",
            "Train Epoch: 9 [2048/2244 (89%)]\tLoss: 0.344443\n",
            "Train Epoch: 9 [1156/2244 (94%)]\tLoss: 0.421160\n",
            "\n",
            "Validation set: Average loss: 0.4928, Accuracy: 431/561 (77%)\n",
            "\n",
            "Train Epoch: 10 [0/2244 (0%)]\tLoss: 0.436765\n",
            "Train Epoch: 10 [128/2244 (6%)]\tLoss: 0.382664\n",
            "Train Epoch: 10 [256/2244 (11%)]\tLoss: 0.269346\n",
            "Train Epoch: 10 [384/2244 (17%)]\tLoss: 0.434257\n",
            "Train Epoch: 10 [512/2244 (22%)]\tLoss: 0.420774\n",
            "Train Epoch: 10 [640/2244 (28%)]\tLoss: 0.450040\n",
            "Train Epoch: 10 [768/2244 (33%)]\tLoss: 0.317639\n",
            "Train Epoch: 10 [896/2244 (39%)]\tLoss: 0.399689\n",
            "Train Epoch: 10 [1024/2244 (44%)]\tLoss: 0.435036\n",
            "Train Epoch: 10 [1152/2244 (50%)]\tLoss: 0.354833\n",
            "Train Epoch: 10 [1280/2244 (56%)]\tLoss: 0.322921\n",
            "Train Epoch: 10 [1408/2244 (61%)]\tLoss: 0.337142\n",
            "Train Epoch: 10 [1536/2244 (67%)]\tLoss: 0.304903\n",
            "Train Epoch: 10 [1664/2244 (72%)]\tLoss: 0.303097\n",
            "Train Epoch: 10 [1792/2244 (78%)]\tLoss: 0.348396\n",
            "Train Epoch: 10 [1920/2244 (83%)]\tLoss: 0.354757\n",
            "Train Epoch: 10 [2048/2244 (89%)]\tLoss: 0.359456\n",
            "Train Epoch: 10 [1156/2244 (94%)]\tLoss: 0.316593\n",
            "\n",
            "Validation set: Average loss: 0.5028, Accuracy: 430/561 (77%)\n",
            "\n",
            "Train Epoch: 11 [0/2244 (0%)]\tLoss: 0.357517\n",
            "Train Epoch: 11 [128/2244 (6%)]\tLoss: 0.316257\n",
            "Train Epoch: 11 [256/2244 (11%)]\tLoss: 0.350263\n",
            "Train Epoch: 11 [384/2244 (17%)]\tLoss: 0.363708\n",
            "Train Epoch: 11 [512/2244 (22%)]\tLoss: 0.414130\n",
            "Train Epoch: 11 [640/2244 (28%)]\tLoss: 0.305664\n",
            "Train Epoch: 11 [768/2244 (33%)]\tLoss: 0.302102\n",
            "Train Epoch: 11 [896/2244 (39%)]\tLoss: 0.368265\n",
            "Train Epoch: 11 [1024/2244 (44%)]\tLoss: 0.436446\n",
            "Train Epoch: 11 [1152/2244 (50%)]\tLoss: 0.275220\n",
            "Train Epoch: 11 [1280/2244 (56%)]\tLoss: 0.319655\n",
            "Train Epoch: 11 [1408/2244 (61%)]\tLoss: 0.397239\n",
            "Train Epoch: 11 [1536/2244 (67%)]\tLoss: 0.368093\n",
            "Train Epoch: 11 [1664/2244 (72%)]\tLoss: 0.348327\n",
            "Train Epoch: 11 [1792/2244 (78%)]\tLoss: 0.348711\n",
            "Train Epoch: 11 [1920/2244 (83%)]\tLoss: 0.344807\n",
            "Train Epoch: 11 [2048/2244 (89%)]\tLoss: 0.296461\n",
            "Train Epoch: 11 [1156/2244 (94%)]\tLoss: 0.405161\n",
            "\n",
            "Validation set: Average loss: 0.4482, Accuracy: 451/561 (80%)\n",
            "\n",
            "Train Epoch: 12 [0/2244 (0%)]\tLoss: 0.321898\n",
            "Train Epoch: 12 [128/2244 (6%)]\tLoss: 0.277741\n",
            "Train Epoch: 12 [256/2244 (11%)]\tLoss: 0.377208\n",
            "Train Epoch: 12 [384/2244 (17%)]\tLoss: 0.280976\n",
            "Train Epoch: 12 [512/2244 (22%)]\tLoss: 0.307460\n",
            "Train Epoch: 12 [640/2244 (28%)]\tLoss: 0.473258\n",
            "Train Epoch: 12 [768/2244 (33%)]\tLoss: 0.323400\n",
            "Train Epoch: 12 [896/2244 (39%)]\tLoss: 0.352458\n",
            "Train Epoch: 12 [1024/2244 (44%)]\tLoss: 0.300203\n",
            "Train Epoch: 12 [1152/2244 (50%)]\tLoss: 0.449567\n",
            "Train Epoch: 12 [1280/2244 (56%)]\tLoss: 0.331408\n",
            "Train Epoch: 12 [1408/2244 (61%)]\tLoss: 0.363617\n",
            "Train Epoch: 12 [1536/2244 (67%)]\tLoss: 0.364343\n",
            "Train Epoch: 12 [1664/2244 (72%)]\tLoss: 0.332220\n",
            "Train Epoch: 12 [1792/2244 (78%)]\tLoss: 0.265798\n",
            "Train Epoch: 12 [1920/2244 (83%)]\tLoss: 0.341988\n",
            "Train Epoch: 12 [2048/2244 (89%)]\tLoss: 0.430436\n",
            "Train Epoch: 12 [1156/2244 (94%)]\tLoss: 0.377533\n",
            "\n",
            "Validation set: Average loss: 0.4189, Accuracy: 454/561 (81%)\n",
            "\n",
            "Train Epoch: 13 [0/2244 (0%)]\tLoss: 0.320214\n",
            "Train Epoch: 13 [128/2244 (6%)]\tLoss: 0.292830\n",
            "Train Epoch: 13 [256/2244 (11%)]\tLoss: 0.312729\n",
            "Train Epoch: 13 [384/2244 (17%)]\tLoss: 0.353755\n",
            "Train Epoch: 13 [512/2244 (22%)]\tLoss: 0.321031\n",
            "Train Epoch: 13 [640/2244 (28%)]\tLoss: 0.335845\n",
            "Train Epoch: 13 [768/2244 (33%)]\tLoss: 0.256553\n",
            "Train Epoch: 13 [896/2244 (39%)]\tLoss: 0.284387\n",
            "Train Epoch: 13 [1024/2244 (44%)]\tLoss: 0.477702\n",
            "Train Epoch: 13 [1152/2244 (50%)]\tLoss: 0.230239\n",
            "Train Epoch: 13 [1280/2244 (56%)]\tLoss: 0.332458\n",
            "Train Epoch: 13 [1408/2244 (61%)]\tLoss: 0.311142\n",
            "Train Epoch: 13 [1536/2244 (67%)]\tLoss: 0.266279\n",
            "Train Epoch: 13 [1664/2244 (72%)]\tLoss: 0.227705\n",
            "Train Epoch: 13 [1792/2244 (78%)]\tLoss: 0.244481\n",
            "Train Epoch: 13 [1920/2244 (83%)]\tLoss: 0.316695\n",
            "Train Epoch: 13 [2048/2244 (89%)]\tLoss: 0.377205\n",
            "Train Epoch: 13 [1156/2244 (94%)]\tLoss: 0.312309\n",
            "\n",
            "Validation set: Average loss: 0.4332, Accuracy: 465/561 (83%)\n",
            "\n",
            "Train Epoch: 14 [0/2244 (0%)]\tLoss: 0.188398\n",
            "Train Epoch: 14 [128/2244 (6%)]\tLoss: 0.320122\n",
            "Train Epoch: 14 [256/2244 (11%)]\tLoss: 0.253319\n",
            "Train Epoch: 14 [384/2244 (17%)]\tLoss: 0.296016\n",
            "Train Epoch: 14 [512/2244 (22%)]\tLoss: 0.328268\n",
            "Train Epoch: 14 [640/2244 (28%)]\tLoss: 0.300895\n",
            "Train Epoch: 14 [768/2244 (33%)]\tLoss: 0.219345\n",
            "Train Epoch: 14 [896/2244 (39%)]\tLoss: 0.329266\n",
            "Train Epoch: 14 [1024/2244 (44%)]\tLoss: 0.336643\n",
            "Train Epoch: 14 [1152/2244 (50%)]\tLoss: 0.246037\n",
            "Train Epoch: 14 [1280/2244 (56%)]\tLoss: 0.243555\n",
            "Train Epoch: 14 [1408/2244 (61%)]\tLoss: 0.290378\n",
            "Train Epoch: 14 [1536/2244 (67%)]\tLoss: 0.210864\n",
            "Train Epoch: 14 [1664/2244 (72%)]\tLoss: 0.265343\n",
            "Train Epoch: 14 [1792/2244 (78%)]\tLoss: 0.270276\n",
            "Train Epoch: 14 [1920/2244 (83%)]\tLoss: 0.447119\n",
            "Train Epoch: 14 [2048/2244 (89%)]\tLoss: 0.305959\n",
            "Train Epoch: 14 [1156/2244 (94%)]\tLoss: 0.299558\n",
            "\n",
            "Validation set: Average loss: 0.4559, Accuracy: 460/561 (82%)\n",
            "\n",
            "Train Epoch: 15 [0/2244 (0%)]\tLoss: 0.278915\n",
            "Train Epoch: 15 [128/2244 (6%)]\tLoss: 0.266084\n",
            "Train Epoch: 15 [256/2244 (11%)]\tLoss: 0.279199\n",
            "Train Epoch: 15 [384/2244 (17%)]\tLoss: 0.341754\n",
            "Train Epoch: 15 [512/2244 (22%)]\tLoss: 0.266726\n",
            "Train Epoch: 15 [640/2244 (28%)]\tLoss: 0.289151\n",
            "Train Epoch: 15 [768/2244 (33%)]\tLoss: 0.249850\n",
            "Train Epoch: 15 [896/2244 (39%)]\tLoss: 0.309232\n",
            "Train Epoch: 15 [1024/2244 (44%)]\tLoss: 0.182775\n",
            "Train Epoch: 15 [1152/2244 (50%)]\tLoss: 0.255690\n",
            "Train Epoch: 15 [1280/2244 (56%)]\tLoss: 0.217584\n",
            "Train Epoch: 15 [1408/2244 (61%)]\tLoss: 0.274509\n",
            "Train Epoch: 15 [1536/2244 (67%)]\tLoss: 0.179778\n",
            "Train Epoch: 15 [1664/2244 (72%)]\tLoss: 0.282487\n",
            "Train Epoch: 15 [1792/2244 (78%)]\tLoss: 0.283763\n",
            "Train Epoch: 15 [1920/2244 (83%)]\tLoss: 0.252954\n",
            "Train Epoch: 15 [2048/2244 (89%)]\tLoss: 0.296276\n",
            "Train Epoch: 15 [1156/2244 (94%)]\tLoss: 0.125880\n",
            "\n",
            "Validation set: Average loss: 0.4518, Accuracy: 471/561 (84%)\n",
            "\n",
            "Train Epoch: 16 [0/2244 (0%)]\tLoss: 0.205604\n",
            "Train Epoch: 16 [128/2244 (6%)]\tLoss: 0.247216\n",
            "Train Epoch: 16 [256/2244 (11%)]\tLoss: 0.243272\n",
            "Train Epoch: 16 [384/2244 (17%)]\tLoss: 0.217421\n",
            "Train Epoch: 16 [512/2244 (22%)]\tLoss: 0.271160\n",
            "Train Epoch: 16 [640/2244 (28%)]\tLoss: 0.276914\n",
            "Train Epoch: 16 [768/2244 (33%)]\tLoss: 0.252410\n",
            "Train Epoch: 16 [896/2244 (39%)]\tLoss: 0.214906\n",
            "Train Epoch: 16 [1024/2244 (44%)]\tLoss: 0.210340\n",
            "Train Epoch: 16 [1152/2244 (50%)]\tLoss: 0.179646\n",
            "Train Epoch: 16 [1280/2244 (56%)]\tLoss: 0.232454\n",
            "Train Epoch: 16 [1408/2244 (61%)]\tLoss: 0.201637\n",
            "Train Epoch: 16 [1536/2244 (67%)]\tLoss: 0.192524\n",
            "Train Epoch: 16 [1664/2244 (72%)]\tLoss: 0.262434\n",
            "Train Epoch: 16 [1792/2244 (78%)]\tLoss: 0.251233\n",
            "Train Epoch: 16 [1920/2244 (83%)]\tLoss: 0.242276\n",
            "Train Epoch: 16 [2048/2244 (89%)]\tLoss: 0.247904\n",
            "Train Epoch: 16 [1156/2244 (94%)]\tLoss: 0.219676\n",
            "\n",
            "Validation set: Average loss: 0.4256, Accuracy: 472/561 (84%)\n",
            "\n",
            "Train Epoch: 17 [0/2244 (0%)]\tLoss: 0.179813\n",
            "Train Epoch: 17 [128/2244 (6%)]\tLoss: 0.150058\n",
            "Train Epoch: 17 [256/2244 (11%)]\tLoss: 0.212242\n",
            "Train Epoch: 17 [384/2244 (17%)]\tLoss: 0.180556\n",
            "Train Epoch: 17 [512/2244 (22%)]\tLoss: 0.251482\n",
            "Train Epoch: 17 [640/2244 (28%)]\tLoss: 0.157157\n",
            "Train Epoch: 17 [768/2244 (33%)]\tLoss: 0.171309\n",
            "Train Epoch: 17 [896/2244 (39%)]\tLoss: 0.202743\n",
            "Train Epoch: 17 [1024/2244 (44%)]\tLoss: 0.153127\n",
            "Train Epoch: 17 [1152/2244 (50%)]\tLoss: 0.140860\n",
            "Train Epoch: 17 [1280/2244 (56%)]\tLoss: 0.196488\n",
            "Train Epoch: 17 [1408/2244 (61%)]\tLoss: 0.196702\n",
            "Train Epoch: 17 [1536/2244 (67%)]\tLoss: 0.161150\n",
            "Train Epoch: 17 [1664/2244 (72%)]\tLoss: 0.332990\n",
            "Train Epoch: 17 [1792/2244 (78%)]\tLoss: 0.296946\n",
            "Train Epoch: 17 [1920/2244 (83%)]\tLoss: 0.236119\n",
            "Train Epoch: 17 [2048/2244 (89%)]\tLoss: 0.206822\n",
            "Train Epoch: 17 [1156/2244 (94%)]\tLoss: 0.146160\n",
            "\n",
            "Validation set: Average loss: 0.4672, Accuracy: 466/561 (83%)\n",
            "\n",
            "Train Epoch: 18 [0/2244 (0%)]\tLoss: 0.210182\n",
            "Train Epoch: 18 [128/2244 (6%)]\tLoss: 0.191679\n",
            "Train Epoch: 18 [256/2244 (11%)]\tLoss: 0.137800\n",
            "Train Epoch: 18 [384/2244 (17%)]\tLoss: 0.127011\n",
            "Train Epoch: 18 [512/2244 (22%)]\tLoss: 0.165713\n",
            "Train Epoch: 18 [640/2244 (28%)]\tLoss: 0.138914\n",
            "Train Epoch: 18 [768/2244 (33%)]\tLoss: 0.136490\n",
            "Train Epoch: 18 [896/2244 (39%)]\tLoss: 0.146337\n",
            "Train Epoch: 18 [1024/2244 (44%)]\tLoss: 0.161761\n",
            "Train Epoch: 18 [1152/2244 (50%)]\tLoss: 0.185334\n",
            "Train Epoch: 18 [1280/2244 (56%)]\tLoss: 0.144014\n",
            "Train Epoch: 18 [1408/2244 (61%)]\tLoss: 0.095918\n",
            "Train Epoch: 18 [1536/2244 (67%)]\tLoss: 0.180956\n",
            "Train Epoch: 18 [1664/2244 (72%)]\tLoss: 0.170766\n",
            "Train Epoch: 18 [1792/2244 (78%)]\tLoss: 0.216591\n",
            "Train Epoch: 18 [1920/2244 (83%)]\tLoss: 0.158232\n",
            "Train Epoch: 18 [2048/2244 (89%)]\tLoss: 0.208089\n",
            "Train Epoch: 18 [1156/2244 (94%)]\tLoss: 0.308862\n",
            "\n",
            "Validation set: Average loss: 0.4690, Accuracy: 467/561 (83%)\n",
            "\n",
            "Train Epoch: 19 [0/2244 (0%)]\tLoss: 0.146166\n",
            "Train Epoch: 19 [128/2244 (6%)]\tLoss: 0.188255\n",
            "Train Epoch: 19 [256/2244 (11%)]\tLoss: 0.150504\n",
            "Train Epoch: 19 [384/2244 (17%)]\tLoss: 0.143567\n",
            "Train Epoch: 19 [512/2244 (22%)]\tLoss: 0.192863\n",
            "Train Epoch: 19 [640/2244 (28%)]\tLoss: 0.182537\n",
            "Train Epoch: 19 [768/2244 (33%)]\tLoss: 0.167341\n",
            "Train Epoch: 19 [896/2244 (39%)]\tLoss: 0.114379\n",
            "Train Epoch: 19 [1024/2244 (44%)]\tLoss: 0.160737\n",
            "Train Epoch: 19 [1152/2244 (50%)]\tLoss: 0.158369\n",
            "Train Epoch: 19 [1280/2244 (56%)]\tLoss: 0.141674\n",
            "Train Epoch: 19 [1408/2244 (61%)]\tLoss: 0.258014\n",
            "Train Epoch: 19 [1536/2244 (67%)]\tLoss: 0.118569\n",
            "Train Epoch: 19 [1664/2244 (72%)]\tLoss: 0.146385\n",
            "Train Epoch: 19 [1792/2244 (78%)]\tLoss: 0.156467\n",
            "Train Epoch: 19 [1920/2244 (83%)]\tLoss: 0.102859\n",
            "Train Epoch: 19 [2048/2244 (89%)]\tLoss: 0.145355\n",
            "Train Epoch: 19 [1156/2244 (94%)]\tLoss: 0.143148\n",
            "\n",
            "Validation set: Average loss: 0.5268, Accuracy: 470/561 (84%)\n",
            "\n",
            "Train Epoch: 20 [0/2244 (0%)]\tLoss: 0.121335\n",
            "Train Epoch: 20 [128/2244 (6%)]\tLoss: 0.100963\n",
            "Train Epoch: 20 [256/2244 (11%)]\tLoss: 0.108180\n",
            "Train Epoch: 20 [384/2244 (17%)]\tLoss: 0.060442\n",
            "Train Epoch: 20 [512/2244 (22%)]\tLoss: 0.111397\n",
            "Train Epoch: 20 [640/2244 (28%)]\tLoss: 0.160100\n",
            "Train Epoch: 20 [768/2244 (33%)]\tLoss: 0.127052\n",
            "Train Epoch: 20 [896/2244 (39%)]\tLoss: 0.106491\n",
            "Train Epoch: 20 [1024/2244 (44%)]\tLoss: 0.103251\n",
            "Train Epoch: 20 [1152/2244 (50%)]\tLoss: 0.061297\n",
            "Train Epoch: 20 [1280/2244 (56%)]\tLoss: 0.047947\n",
            "Train Epoch: 20 [1408/2244 (61%)]\tLoss: 0.112591\n",
            "Train Epoch: 20 [1536/2244 (67%)]\tLoss: 0.206025\n",
            "Train Epoch: 20 [1664/2244 (72%)]\tLoss: 0.125171\n",
            "Train Epoch: 20 [1792/2244 (78%)]\tLoss: 0.145947\n",
            "Train Epoch: 20 [1920/2244 (83%)]\tLoss: 0.104167\n",
            "Train Epoch: 20 [2048/2244 (89%)]\tLoss: 0.125763\n",
            "Train Epoch: 20 [1156/2244 (94%)]\tLoss: 0.123352\n",
            "\n",
            "Validation set: Average loss: 0.5595, Accuracy: 454/561 (81%)\n",
            "\n",
            "Train Epoch: 21 [0/2244 (0%)]\tLoss: 0.102029\n",
            "Train Epoch: 21 [128/2244 (6%)]\tLoss: 0.141503\n",
            "Train Epoch: 21 [256/2244 (11%)]\tLoss: 0.153478\n",
            "Train Epoch: 21 [384/2244 (17%)]\tLoss: 0.099984\n",
            "Train Epoch: 21 [512/2244 (22%)]\tLoss: 0.103625\n",
            "Train Epoch: 21 [640/2244 (28%)]\tLoss: 0.156252\n",
            "Train Epoch: 21 [768/2244 (33%)]\tLoss: 0.107512\n",
            "Train Epoch: 21 [896/2244 (39%)]\tLoss: 0.096362\n",
            "Train Epoch: 21 [1024/2244 (44%)]\tLoss: 0.151298\n",
            "Train Epoch: 21 [1152/2244 (50%)]\tLoss: 0.092404\n",
            "Train Epoch: 21 [1280/2244 (56%)]\tLoss: 0.059513\n",
            "Train Epoch: 21 [1408/2244 (61%)]\tLoss: 0.176526\n",
            "Train Epoch: 21 [1536/2244 (67%)]\tLoss: 0.113408\n",
            "Train Epoch: 21 [1664/2244 (72%)]\tLoss: 0.082606\n",
            "Train Epoch: 21 [1792/2244 (78%)]\tLoss: 0.181357\n",
            "Train Epoch: 21 [1920/2244 (83%)]\tLoss: 0.059496\n",
            "Train Epoch: 21 [2048/2244 (89%)]\tLoss: 0.143847\n",
            "Train Epoch: 21 [1156/2244 (94%)]\tLoss: 0.149238\n",
            "\n",
            "Validation set: Average loss: 0.6955, Accuracy: 463/561 (83%)\n",
            "\n",
            "Train Epoch: 22 [0/2244 (0%)]\tLoss: 0.082141\n",
            "Train Epoch: 22 [128/2244 (6%)]\tLoss: 0.067757\n",
            "Train Epoch: 22 [256/2244 (11%)]\tLoss: 0.084320\n",
            "Train Epoch: 22 [384/2244 (17%)]\tLoss: 0.061578\n",
            "Train Epoch: 22 [512/2244 (22%)]\tLoss: 0.099764\n",
            "Train Epoch: 22 [640/2244 (28%)]\tLoss: 0.076748\n",
            "Train Epoch: 22 [768/2244 (33%)]\tLoss: 0.054609\n",
            "Train Epoch: 22 [896/2244 (39%)]\tLoss: 0.108934\n",
            "Train Epoch: 22 [1024/2244 (44%)]\tLoss: 0.100249\n",
            "Train Epoch: 22 [1152/2244 (50%)]\tLoss: 0.089513\n",
            "Train Epoch: 22 [1280/2244 (56%)]\tLoss: 0.088978\n",
            "Train Epoch: 22 [1408/2244 (61%)]\tLoss: 0.132375\n",
            "Train Epoch: 22 [1536/2244 (67%)]\tLoss: 0.053240\n",
            "Train Epoch: 22 [1664/2244 (72%)]\tLoss: 0.096999\n",
            "Train Epoch: 22 [1792/2244 (78%)]\tLoss: 0.088892\n",
            "Train Epoch: 22 [1920/2244 (83%)]\tLoss: 0.123015\n",
            "Train Epoch: 22 [2048/2244 (89%)]\tLoss: 0.098902\n",
            "Train Epoch: 22 [1156/2244 (94%)]\tLoss: 0.127099\n",
            "\n",
            "Validation set: Average loss: 0.7380, Accuracy: 454/561 (81%)\n",
            "\n",
            "Train Epoch: 23 [0/2244 (0%)]\tLoss: 0.083643\n",
            "Train Epoch: 23 [128/2244 (6%)]\tLoss: 0.106970\n",
            "Train Epoch: 23 [256/2244 (11%)]\tLoss: 0.107937\n",
            "Train Epoch: 23 [384/2244 (17%)]\tLoss: 0.045977\n",
            "Train Epoch: 23 [512/2244 (22%)]\tLoss: 0.061490\n",
            "Train Epoch: 23 [640/2244 (28%)]\tLoss: 0.068492\n",
            "Train Epoch: 23 [768/2244 (33%)]\tLoss: 0.088076\n",
            "Train Epoch: 23 [896/2244 (39%)]\tLoss: 0.080703\n",
            "Train Epoch: 23 [1024/2244 (44%)]\tLoss: 0.251261\n",
            "Train Epoch: 23 [1152/2244 (50%)]\tLoss: 0.121208\n",
            "Train Epoch: 23 [1280/2244 (56%)]\tLoss: 0.056614\n",
            "Train Epoch: 23 [1408/2244 (61%)]\tLoss: 0.055610\n",
            "Train Epoch: 23 [1536/2244 (67%)]\tLoss: 0.115715\n",
            "Train Epoch: 23 [1664/2244 (72%)]\tLoss: 0.058570\n",
            "Train Epoch: 23 [1792/2244 (78%)]\tLoss: 0.110314\n",
            "Train Epoch: 23 [1920/2244 (83%)]\tLoss: 0.070132\n",
            "Train Epoch: 23 [2048/2244 (89%)]\tLoss: 0.080823\n",
            "Train Epoch: 23 [1156/2244 (94%)]\tLoss: 0.052102\n",
            "\n",
            "Validation set: Average loss: 0.9217, Accuracy: 473/561 (84%)\n",
            "\n",
            "Train Epoch: 24 [0/2244 (0%)]\tLoss: 0.085522\n",
            "Train Epoch: 24 [128/2244 (6%)]\tLoss: 0.115457\n",
            "Train Epoch: 24 [256/2244 (11%)]\tLoss: 0.028547\n",
            "Train Epoch: 24 [384/2244 (17%)]\tLoss: 0.104190\n",
            "Train Epoch: 24 [512/2244 (22%)]\tLoss: 0.060749\n",
            "Train Epoch: 24 [640/2244 (28%)]\tLoss: 0.047122\n",
            "Train Epoch: 24 [768/2244 (33%)]\tLoss: 0.057136\n",
            "Train Epoch: 24 [896/2244 (39%)]\tLoss: 0.056420\n",
            "Train Epoch: 24 [1024/2244 (44%)]\tLoss: 0.042785\n",
            "Train Epoch: 24 [1152/2244 (50%)]\tLoss: 0.040447\n",
            "Train Epoch: 24 [1280/2244 (56%)]\tLoss: 0.041278\n",
            "Train Epoch: 24 [1408/2244 (61%)]\tLoss: 0.047595\n",
            "Train Epoch: 24 [1536/2244 (67%)]\tLoss: 0.056786\n",
            "Train Epoch: 24 [1664/2244 (72%)]\tLoss: 0.072618\n",
            "Train Epoch: 24 [1792/2244 (78%)]\tLoss: 0.032943\n",
            "Train Epoch: 24 [1920/2244 (83%)]\tLoss: 0.036546\n",
            "Train Epoch: 24 [2048/2244 (89%)]\tLoss: 0.084164\n",
            "Train Epoch: 24 [1156/2244 (94%)]\tLoss: 0.019736\n",
            "\n",
            "Validation set: Average loss: 0.7524, Accuracy: 472/561 (84%)\n",
            "\n",
            "CPU times: user 1min 10s, sys: 14.9 s, total: 1min 25s\n",
            "Wall time: 36min 47s\n"
          ],
          "name": "stdout"
        }
      ]
    },
    {
      "cell_type": "markdown",
      "metadata": {
        "id": "6_tsV8oF3nlT"
      },
      "source": [
        "# 5- Visualize the prediction results"
      ]
    },
    {
      "cell_type": "markdown",
      "metadata": {
        "id": "Y6DJsTazmS-v"
      },
      "source": [
        "## 5.1- Environment set-up"
      ]
    },
    {
      "cell_type": "code",
      "metadata": {
        "id": "7O_psq8b3mlC"
      },
      "source": [
        "import torchvision\n",
        "import torchvision.transforms as transforms\n",
        "import matplotlib.pyplot as plt"
      ],
      "execution_count": 15,
      "outputs": []
    },
    {
      "cell_type": "markdown",
      "metadata": {
        "id": "g8VTxcobkiND"
      },
      "source": [
        "## 5.2- Visualize the results in the notebook"
      ]
    },
    {
      "cell_type": "markdown",
      "metadata": {
        "id": "4M1osXZ0mZU9"
      },
      "source": [
        "A subset of *n_imgs* from the validation set can be displayed together with the predicted and true labels as per the code below. Note that resizing and conversion into grayscale are not corrected in the code below, just the normalization transformation."
      ]
    },
    {
      "cell_type": "code",
      "metadata": {
        "colab": {
          "base_uri": "https://localhost:8080/",
          "height": 276
        },
        "id": "ovKPNL9e3z_X",
        "outputId": "a782393e-96d6-43d9-f4cf-9875f9d31197"
      },
      "source": [
        "n_img = 32 # images to show\n",
        "def imshow(img):\n",
        "    img = img / 2 + 0.5     # unnormalize\n",
        "    npimg = img.numpy()     # convert to numpy array\n",
        "    plt.imshow(np.transpose(npimg, (1, 2, 0)))\n",
        "    plt.show()\n",
        "# get the predicted class index for each element in the val set\n",
        "_, predicted = torch.max(output, 1)\n",
        "# get some random training images\n",
        "dataiter = iter(validation_loader)\n",
        "images, labels = dataiter.next()\n",
        "\n",
        "# show images\n",
        "imshow(torchvision.utils.make_grid(images[:n_img]))\n",
        "# print labels\n",
        "print('Predicted: ', ' '.join('%5s' % dataset.classes[int(predicted[j])] for j in range(n_img)))\n",
        "print('True class:', ' '.join('%5s' % dataset.classes[int(labels[j])] for j in range(n_img)))"
      ],
      "execution_count": 17,
      "outputs": [
        {
          "output_type": "display_data",
          "data": {
            "image/png": "[encoded data removed]",
            "text/plain": [
              "<Figure size 432x288 with 1 Axes>"
            ]
          },
          "metadata": {
            "tags": [],
            "needs_background": "light"
          }
        },
        {
          "output_type": "stream",
          "text": [
            "Predicted:  valuable valuable valuable valuable valuable valuable valuable valuable  meme  meme valuable  meme valuable valuable valuable  meme valuable  meme  meme valuable  meme  meme valuable  meme  meme  meme valuable valuable valuable valuable valuable valuable\n",
            "True class: valuable valuable valuable valuable valuable valuable valuable valuable  meme valuable valuable  meme valuable  meme valuable  meme  meme valuable  meme valuable  meme  meme  meme  meme valuable  meme valuable valuable valuable valuable  meme  meme\n"
          ],
          "name": "stdout"
        }
      ]
    },
    {
      "cell_type": "markdown",
      "metadata": {
        "id": "d-KhMqG_np8r"
      },
      "source": [
        "# 6- Performance metrics (after 24 epochs)"
      ]
    },
    {
      "cell_type": "markdown",
      "metadata": {
        "id": "bH9m6T_6V9gV"
      },
      "source": [
        "## 6.1- Accuracy by class"
      ]
    },
    {
      "cell_type": "markdown",
      "metadata": {
        "id": "nTek1pCliHBJ"
      },
      "source": [
        "The accuracy for each class is shown below:\n",
        "\n"
      ]
    },
    {
      "cell_type": "code",
      "metadata": {
        "colab": {
          "base_uri": "https://localhost:8080/"
        },
        "id": "dJSQy3HSqnA5",
        "outputId": "bfdc1ac7-fa29-4cab-a125-5eae4e8b8b69"
      },
      "source": [
        "class_correct = list(0. for i in range(3))\n",
        "class_total = list(0. for i in range(3))\n",
        "classes = dataset.classes\n",
        "\n",
        "with torch.no_grad():\n",
        "    for data in validation_loader:\n",
        "        images, labels = data\n",
        "        images = images.to(device)\n",
        "        labels = labels.to(device)\n",
        "        outputs = model(images)\n",
        "        _, predicted = torch.max(outputs, 1)\n",
        "        c = (predicted == labels).squeeze()\n",
        "        for i in range(63):\n",
        "            label = labels[i]\n",
        "            class_correct[label] += c[i].item()\n",
        "            class_total[label] += 1\n",
        "\n",
        "\n",
        "for i in range(2):\n",
        "    print('Accuracy of %5s : %2d %%' % (\n",
        "        classes[i], 100 * class_correct[i] / class_total[i]))"
      ],
      "execution_count": 18,
      "outputs": [
        {
          "output_type": "stream",
          "text": [
            "Accuracy of  meme : 76 %\n",
            "Accuracy of valuable : 84 %\n"
          ],
          "name": "stdout"
        }
      ]
    },
    {
      "cell_type": "markdown",
      "metadata": {
        "id": "jI_Gxy1NWCRF"
      },
      "source": [
        "## 6.2- Confussion matrix"
      ]
    },
    {
      "cell_type": "markdown",
      "metadata": {
        "id": "eXAREka3h50f"
      },
      "source": [
        "Instead of studying the recall or the f1-score, we can display a confusion matrix (in array form) as below to evaluate the relevance of false positives and false negatives for each clss."
      ]
    },
    {
      "cell_type": "code",
      "metadata": {
        "id": "1KQhZMErwOLJ"
      },
      "source": [
        "stacked = torch.stack(\n",
        "    (\n",
        "        labels,\n",
        "        predicted\n",
        "    ),\n",
        "    dim=1\n",
        ")"
      ],
      "execution_count": 19,
      "outputs": []
    },
    {
      "cell_type": "code",
      "metadata": {
        "colab": {
          "base_uri": "https://localhost:8080/"
        },
        "id": "hAZCYlwTwhHS",
        "outputId": "ee0e76b4-0bf2-4729-f1d8-1f7da889fd2f"
      },
      "source": [
        "cmt = torch.zeros(2,2, dtype=torch.int64)\n",
        "for p in stacked:\n",
        "    tl, pl = p.tolist()\n",
        "    cmt[tl, pl] = cmt[tl, pl] + 1\n",
        "print(cmt, classes)"
      ],
      "execution_count": 20,
      "outputs": [
        {
          "output_type": "stream",
          "text": [
            "tensor([[271,  49],\n",
            "        [ 40, 201]]) ['meme', 'valuable']\n"
          ],
          "name": "stdout"
        }
      ]
    },
    {
      "cell_type": "markdown",
      "metadata": {
        "id": "wL-S6T73ix0F"
      },
      "source": [
        "As it can be seen, the main source of misclassification is non-valuable memes being classified as memes. This is expected since meme (non-valuable images) is quite a heterogeneous group."
      ]
    },
    {
      "cell_type": "markdown",
      "metadata": {
        "id": "pZnMO-TKcoJP"
      },
      "source": [
        "# 7- Adding image metadata to the CNN"
      ]
    },
    {
      "cell_type": "markdown",
      "metadata": {
        "id": "eszctvvpcvoh"
      },
      "source": [
        "In order to take advantage from the fact that memes and invaluable images in my whats app are usually of more reduced size than the valuable images, we can add an extra node in the second linear layer (hence increasing from 120 to 121 nodes) to consider also the image side. This also requires some adjustments:\n",
        "\n",
        "* The dataset __getitem__ method should also return the image size.\n",
        "* The loader method needs to handle this triplet.\n",
        "* The architecture of the net needs to be adjusted to concatenate the extra value in the second linear layer.\n",
        "* The train and validate methods need to be modified to explicit this extra input in the for loop. "
      ]
    },
    {
      "cell_type": "markdown",
      "metadata": {
        "id": "-1MRhVWLhxx4"
      },
      "source": [
        "## 7.1- Data loading with img size"
      ]
    },
    {
      "cell_type": "markdown",
      "metadata": {
        "id": "8SabuhmLh3hZ"
      },
      "source": [
        "We can create a custom dataset class inheriting from the ImageFolder. The __getitem__ method is overriden to extract the size of each image and add it to the original tuple. This size is normalized to avoid complications in the during the training, for which the min and max sizes for all the images are stored as attributes in the __init__ method (also overriden)."
      ]
    },
    {
      "cell_type": "code",
      "metadata": {
        "id": "pWIWC4FbhwMk"
      },
      "source": [
        "class memeFolder(datasets.ImageFolder):\n",
        "  def __init__(self, root, transform):\n",
        "    super(memeFolder, self).__init__(root, transform)\n",
        "    # Get the max and min img size in the dataset as attributes\n",
        "    self.max_size = max([os.path.getsize(path) for (path, label) in self.samples])\n",
        "    self.min_size = min([os.path.getsize(path) for (path, label) in self.samples])\n",
        "\n",
        "  def __getitem__(self, idx):\n",
        "    # Override to return the pic size as well. This is what would be returned:\n",
        "    original_tuple = super(memeFolder, self).__getitem__(idx)\n",
        "    img_path = self.imgs[idx][0]\n",
        "    img_size = os.path.getsize(img_path)\n",
        "    # Apply min max normalization to the size variable\n",
        "    norm_size = (img_size - self.min_size) / (self.max_size - self.min_size)\n",
        "    # make a new tuple that includes original and the size\n",
        "    tuple_with_size = (original_tuple + (norm_size,))\n",
        "    return tuple_with_size"
      ],
      "execution_count": 21,
      "outputs": []
    },
    {
      "cell_type": "markdown",
      "metadata": {
        "id": "ZtEsRODDiizm"
      },
      "source": [
        "From here, the downstream process is analogous to the one above, with the only difference of the memeFolder class being used instead of the ImageFolder class"
      ]
    },
    {
      "cell_type": "code",
      "metadata": {
        "id": "R8HyD4A7idW-"
      },
      "source": [
        "root_dir = '/content/meme_images/'\n",
        "transform = transforms.Compose([\n",
        "    transforms.Resize((256, 256)),\n",
        "    transforms.ToTensor(),\n",
        "    transforms.Normalize((0.5, 0.5, 0.5), (0.5, 0.5, 0.5))\n",
        "])\n",
        "\n",
        "dataset_wsize = memeFolder(root=root_dir, transform=transform)"
      ],
      "execution_count": 22,
      "outputs": []
    },
    {
      "cell_type": "markdown",
      "metadata": {
        "id": "X-ASmCaZ2wVz"
      },
      "source": [
        "We can easily print the stats for the size distribtion for the imgs in the two classes. As we can see, valuable images are larger in average, although the standard deviation is huge (suggesting a very skewed distribution).\n",
        "\n",
        "This means that image size might not be such a good feature as thought."
      ]
    },
    {
      "cell_type": "code",
      "metadata": {
        "colab": {
          "base_uri": "https://localhost:8080/"
        },
        "id": "4VqoHtvO01eE",
        "outputId": "a641663c-4b40-47c7-88e8-9b3918f84015"
      },
      "source": [
        "sizes_meme = [os.path.getsize(path) for (path, label) in dataset_wsize.imgs if label == 0]\n",
        "sizes_valuable = [os.path.getsize(path) for (path, label) in dataset_wsize.imgs if label == 1]\n",
        "print(f'Meme images have a mean size of {np.mean(sizes_meme):.0f} and a standard deviation of {np.std(sizes_meme):.0f}')\n",
        "print(f'Valuable images have a mean size of {np.mean(sizes_valuable):.0f} and a standard deviation of {np.std(sizes_valuable):.0f}')"
      ],
      "execution_count": 24,
      "outputs": [
        {
          "output_type": "stream",
          "text": [
            "Meme images have a mean size of 204397 and a standard deviation of 368445\n",
            "Valuable images have a mean size of 280267 and a standard deviation of 325411\n"
          ],
          "name": "stdout"
        }
      ]
    },
    {
      "cell_type": "markdown",
      "metadata": {
        "id": "98eGyso1mjs3"
      },
      "source": [
        "Also it is good to see how balanced the dataset is between our two classes."
      ]
    },
    {
      "cell_type": "code",
      "metadata": {
        "colab": {
          "base_uri": "https://localhost:8080/"
        },
        "id": "Y_zXHVA-mWxA",
        "outputId": "4cf72e5d-05f3-4d05-8cb8-eb4026a3fc74"
      },
      "source": [
        "print(f'Valuable images have a dataset size of {len(sizes_valuable):.0f}, while for the memes dataset is {len(sizes_meme):.0f}')"
      ],
      "execution_count": 25,
      "outputs": [
        {
          "output_type": "stream",
          "text": [
            "Valuable images have a dataset size of 1205, while for the memes dataset is 1600\n"
          ],
          "name": "stdout"
        }
      ]
    },
    {
      "cell_type": "markdown",
      "metadata": {
        "id": "78W_2bN13N0d"
      },
      "source": [
        "The dataloader creation is analogous to the previous model."
      ]
    },
    {
      "cell_type": "code",
      "metadata": {
        "id": "sYkIK_tFihh9"
      },
      "source": [
        "batch_size=128\n",
        "\n",
        "train_index, val_index = train_test_split(\n",
        "    np.arange(len(dataset_wsize.targets)),\n",
        "    test_size=0.2,\n",
        "    shuffle=True,\n",
        "    stratify=dataset_wsize.targets\n",
        ")\n",
        "val_set_wsize = Subset(dataset_wsize, val_index)\n",
        "train_set_wsize = Subset(dataset_wsize, train_index)\n",
        "\n",
        "train_loader_wsize = DataLoader(dataset=train_set_wsize, \n",
        "                          batch_size=batch_size, \n",
        "                          shuffle=True,\n",
        "                          num_workers=2)\n",
        "\n",
        "validation_loader_wsize = DataLoader(dataset=val_set_wsize, \n",
        "                               batch_size=len(val_index), \n",
        "                               shuffle=False,\n",
        "                               num_workers=2)"
      ],
      "execution_count": 26,
      "outputs": []
    },
    {
      "cell_type": "markdown",
      "metadata": {
        "id": "y0YiQ5zZiw1j"
      },
      "source": [
        "## 7.2- Model building"
      ]
    },
    {
      "cell_type": "code",
      "metadata": {
        "colab": {
          "base_uri": "https://localhost:8080/"
        },
        "id": "1DExVQLCiza-",
        "outputId": "b5e05a74-8255-4f3e-a4c4-e2c3aa92444d"
      },
      "source": [
        "class Net_wsize(nn.Module):\n",
        "    def __init__(self):\n",
        "        super(Net_wsize, self).__init__()\n",
        "        self.conv1 = nn.Conv2d(3, 9, 5) #From 3 to 9 channels, 5x5 kernel -> 9,252,252\n",
        "        self.pool = nn.MaxPool2d(2, 2) # 2x2 maxPooling -> 9,126,126\n",
        "        self.conv2 = nn.Conv2d(9, 18, 5) # 9 to 18 channels, 5x5 kernel -> 18,122,122\n",
        "        # -> 18,61,61\n",
        "        self.conv3 = nn.Conv2d(18, 36, 6) # 18 to 36 channels, 6x6 kernel -> 36,56,56\n",
        "        # -> 36,28,28\n",
        "        self.fc1 = nn.Linear(36 * 28 * 28, 120)\n",
        "        self.fc1_drop = nn.Dropout(0.2)\n",
        "        # We modify the input size of this next layer to account for the extra value concatenated\n",
        "        self.fc2 = nn.Linear(120, 84)\n",
        "        self.fc2_drop = nn.Dropout(0.2)\n",
        "        self.fc3 = nn.Linear(85, 2)\n",
        "\n",
        "    def forward(self, image, img_sizes):\n",
        "      # We have now two inputs, so we store x2 for the image size for later use\n",
        "        x2 = img_sizes.resize_((len(img_sizes), 1))\n",
        "      # We run the convolution on the image as usual\n",
        "        x1 = self.pool(F.relu(self.conv1(image)))\n",
        "        x1 = self.pool(F.relu(self.conv2(x1)))\n",
        "        x1 = self.pool(F.relu(self.conv3(x1)))\n",
        "      # We run the first linear layer on the linearized conv values as usual\n",
        "        x1 = x1.view(-1, 36*28*28)\n",
        "        x1 = F.relu(self.fc1(x1))\n",
        "        x1 = self.fc1_drop(x1)\n",
        "\n",
        "      # We keep running the linear layers as usual\n",
        "        x1 = F.relu(self.fc2(x1))\n",
        "        x1 = self.fc2_drop(x1)\n",
        "      # We concatenate the extra value to each sample\n",
        "        x = torch.cat((x1, x2), dim=1)\n",
        "        x = self.fc3(x)\n",
        "        return x\n",
        "\n",
        "model_wsize = Net_wsize().to(device)\n",
        "optimizer = torch.optim.SGD(model_wsize.parameters(), lr=0.01, momentum=0.9)\n",
        "criterion = nn.CrossEntropyLoss()\n",
        "\n",
        "print(model_wsize)"
      ],
      "execution_count": 27,
      "outputs": [
        {
          "output_type": "stream",
          "text": [
            "Net_wsize(\n",
            "  (conv1): Conv2d(3, 9, kernel_size=(5, 5), stride=(1, 1))\n",
            "  (pool): MaxPool2d(kernel_size=2, stride=2, padding=0, dilation=1, ceil_mode=False)\n",
            "  (conv2): Conv2d(9, 18, kernel_size=(5, 5), stride=(1, 1))\n",
            "  (conv3): Conv2d(18, 36, kernel_size=(6, 6), stride=(1, 1))\n",
            "  (fc1): Linear(in_features=28224, out_features=120, bias=True)\n",
            "  (fc1_drop): Dropout(p=0.2, inplace=False)\n",
            "  (fc2): Linear(in_features=120, out_features=84, bias=True)\n",
            "  (fc2_drop): Dropout(p=0.2, inplace=False)\n",
            "  (fc3): Linear(in_features=85, out_features=2, bias=True)\n",
            ")\n"
          ],
          "name": "stdout"
        }
      ]
    },
    {
      "cell_type": "markdown",
      "metadata": {
        "id": "SkH8d5Bxjfwv"
      },
      "source": [
        "The sizes are also loaded into the device, and passed as input to the forward run of the model."
      ]
    },
    {
      "cell_type": "code",
      "metadata": {
        "id": "0N073mVnjdPV"
      },
      "source": [
        "def train_with_size(model, optimizer, epoch):\n",
        "    # Set model to training mode\n",
        "    model.train()\n",
        "    loss_vect = []\n",
        "    # Loop over each batch from the training set\n",
        "    for batch_idx, (data, target, sizes) in enumerate(train_loader_wsize):\n",
        "        # Copy data to GPU\n",
        "        data = data.to(device)\n",
        "        target = target.to(device)\n",
        "        sizes = sizes.to(device)\n",
        "        # Zero gradient buffers\n",
        "        optimizer.zero_grad() \n",
        "        \n",
        "        # Pass data through the network\n",
        "        output = model(data.float(), sizes.float())\n",
        "\n",
        "        # Calculate loss\n",
        "        loss = criterion(output, target)\n",
        "\n",
        "        # Backpropagate\n",
        "        loss.backward()\n",
        "        \n",
        "        loss_vect.append(loss.data.item())\n",
        "        # Update weights\n",
        "        optimizer.step()\n",
        "        \n",
        "        print('Train Epoch: {} [{}/{} ({:.0f}%)]\\tLoss: {:.6f}'.format(\n",
        "            epoch, batch_idx * len(data), len(train_loader_wsize.dataset),\n",
        "            100. * batch_idx / len(train_loader_wsize), loss.data.item()))\n",
        "    return np.mean(loss_vect[:-1])"
      ],
      "execution_count": 28,
      "outputs": []
    },
    {
      "cell_type": "markdown",
      "metadata": {
        "id": "pRSd0mfjjuLM"
      },
      "source": [
        "Same arrangements as before for the validation method"
      ]
    },
    {
      "cell_type": "code",
      "metadata": {
        "id": "xYz2ZEVkjs6o"
      },
      "source": [
        "def validate_with_size(model, loss_vector, accuracy_vector):\n",
        "    train_loss = model.eval()\n",
        "    val_loss, correct = 0, 0\n",
        "    for data, target, sizes in validation_loader_wsize:\n",
        "        data = data.to(device)\n",
        "        sizes = sizes.to(device)\n",
        "        target = target.to(device)\n",
        "        output = model(data.float(), sizes.float())\n",
        "        val_loss += criterion(output, target).data.item()\n",
        "        pred = output.data.max(1)[1] # get the index of the max log-probability\n",
        "        correct += pred.eq(target.data).cpu().sum()\n",
        "\n",
        "    val_loss /= len(validation_loader_wsize)\n",
        "    loss_vector.append(val_loss)\n",
        "\n",
        "    accuracy = 100. * correct.to(torch.float32) / len(validation_loader_wsize.dataset)\n",
        "    accuracy_vector.append(accuracy)\n",
        "    \n",
        "    print('\\nValidation set: Average loss: {:.4f}, Accuracy: {}/{} ({:.0f}%)\\n'.format(\n",
        "        val_loss, correct, len(validation_loader_wsize.dataset), accuracy))\n",
        "    return val_loss, float(accuracy), output\n"
      ],
      "execution_count": 29,
      "outputs": []
    },
    {
      "cell_type": "markdown",
      "metadata": {
        "id": "IJIpsz31j0dD"
      },
      "source": [
        "## 7.3- Model training"
      ]
    },
    {
      "cell_type": "markdown",
      "metadata": {
        "id": "sOwQExIcj2rv"
      },
      "source": [
        "We now train the model in an analogous fashion as before, with our custom dataset loaders and model."
      ]
    },
    {
      "cell_type": "code",
      "metadata": {
        "id": "RK_mivpwj9Nz"
      },
      "source": [
        "epochs = 24\n",
        "\n",
        "lossv, accv = [], []\n",
        "exp_dict_wsize = {\n",
        "    'validation_accuracy': [],\n",
        "    'train_loss': [],\n",
        "    'validation_loss': []\n",
        "}"
      ],
      "execution_count": 30,
      "outputs": []
    },
    {
      "cell_type": "code",
      "metadata": {
        "colab": {
          "base_uri": "https://localhost:8080/"
        },
        "id": "kKEOXBSFkCGB",
        "outputId": "63b3b110-d895-4304-813b-4c9b0e2bf673"
      },
      "source": [
        "%%time\n",
        "\n",
        "for epoch in range(1, epochs + 1):\n",
        "    train_loss = train_with_size(model_wsize, optimizer, epoch)\n",
        "    val_loss, val_acc, output = validate_with_size(model_wsize, lossv, accv)\n",
        "    for key, value in zip(exp_dict_wsize.keys(), [val_acc, train_loss, val_loss]):\n",
        "      exp_dict_wsize[key].append(value)"
      ],
      "execution_count": 31,
      "outputs": [
        {
          "output_type": "stream",
          "text": [
            "Train Epoch: 1 [0/2244 (0%)]\tLoss: 0.716329\n",
            "Train Epoch: 1 [128/2244 (6%)]\tLoss: 0.699021\n",
            "Train Epoch: 1 [256/2244 (11%)]\tLoss: 0.698039\n",
            "Train Epoch: 1 [384/2244 (17%)]\tLoss: 0.688162\n",
            "Train Epoch: 1 [512/2244 (22%)]\tLoss: 0.676010\n",
            "Train Epoch: 1 [640/2244 (28%)]\tLoss: 0.672263\n",
            "Train Epoch: 1 [768/2244 (33%)]\tLoss: 0.662658\n",
            "Train Epoch: 1 [896/2244 (39%)]\tLoss: 0.642652\n",
            "Train Epoch: 1 [1024/2244 (44%)]\tLoss: 0.630025\n",
            "Train Epoch: 1 [1152/2244 (50%)]\tLoss: 0.644853\n",
            "Train Epoch: 1 [1280/2244 (56%)]\tLoss: 0.664819\n",
            "Train Epoch: 1 [1408/2244 (61%)]\tLoss: 0.575544\n",
            "Train Epoch: 1 [1536/2244 (67%)]\tLoss: 0.682655\n",
            "Train Epoch: 1 [1664/2244 (72%)]\tLoss: 0.577043\n",
            "Train Epoch: 1 [1792/2244 (78%)]\tLoss: 0.613229\n",
            "Train Epoch: 1 [1920/2244 (83%)]\tLoss: 0.633982\n",
            "Train Epoch: 1 [2048/2244 (89%)]\tLoss: 0.603164\n",
            "Train Epoch: 1 [1156/2244 (94%)]\tLoss: 0.505033\n",
            "\n",
            "Validation set: Average loss: 0.5729, Accuracy: 333/561 (59%)\n",
            "\n",
            "Train Epoch: 2 [0/2244 (0%)]\tLoss: 0.590669\n",
            "Train Epoch: 2 [128/2244 (6%)]\tLoss: 0.551617\n",
            "Train Epoch: 2 [256/2244 (11%)]\tLoss: 0.607293\n",
            "Train Epoch: 2 [384/2244 (17%)]\tLoss: 0.528484\n",
            "Train Epoch: 2 [512/2244 (22%)]\tLoss: 0.515691\n",
            "Train Epoch: 2 [640/2244 (28%)]\tLoss: 0.602480\n",
            "Train Epoch: 2 [768/2244 (33%)]\tLoss: 0.575180\n",
            "Train Epoch: 2 [896/2244 (39%)]\tLoss: 0.552206\n",
            "Train Epoch: 2 [1024/2244 (44%)]\tLoss: 0.526867\n",
            "Train Epoch: 2 [1152/2244 (50%)]\tLoss: 0.559964\n",
            "Train Epoch: 2 [1280/2244 (56%)]\tLoss: 0.573498\n",
            "Train Epoch: 2 [1408/2244 (61%)]\tLoss: 0.525327\n",
            "Train Epoch: 2 [1536/2244 (67%)]\tLoss: 0.531889\n",
            "Train Epoch: 2 [1664/2244 (72%)]\tLoss: 0.578883\n",
            "Train Epoch: 2 [1792/2244 (78%)]\tLoss: 0.524323\n",
            "Train Epoch: 2 [1920/2244 (83%)]\tLoss: 0.478613\n",
            "Train Epoch: 2 [2048/2244 (89%)]\tLoss: 0.509432\n",
            "Train Epoch: 2 [1156/2244 (94%)]\tLoss: 0.535497\n",
            "\n",
            "Validation set: Average loss: 0.5012, Accuracy: 415/561 (74%)\n",
            "\n",
            "Train Epoch: 3 [0/2244 (0%)]\tLoss: 0.540906\n",
            "Train Epoch: 3 [128/2244 (6%)]\tLoss: 0.523632\n",
            "Train Epoch: 3 [256/2244 (11%)]\tLoss: 0.542561\n",
            "Train Epoch: 3 [384/2244 (17%)]\tLoss: 0.473834\n",
            "Train Epoch: 3 [512/2244 (22%)]\tLoss: 0.529239\n",
            "Train Epoch: 3 [640/2244 (28%)]\tLoss: 0.486979\n",
            "Train Epoch: 3 [768/2244 (33%)]\tLoss: 0.548458\n",
            "Train Epoch: 3 [896/2244 (39%)]\tLoss: 0.527450\n",
            "Train Epoch: 3 [1024/2244 (44%)]\tLoss: 0.507924\n",
            "Train Epoch: 3 [1152/2244 (50%)]\tLoss: 0.509303\n",
            "Train Epoch: 3 [1280/2244 (56%)]\tLoss: 0.426308\n",
            "Train Epoch: 3 [1408/2244 (61%)]\tLoss: 0.523378\n",
            "Train Epoch: 3 [1536/2244 (67%)]\tLoss: 0.522525\n",
            "Train Epoch: 3 [1664/2244 (72%)]\tLoss: 0.432531\n",
            "Train Epoch: 3 [1792/2244 (78%)]\tLoss: 0.449416\n",
            "Train Epoch: 3 [1920/2244 (83%)]\tLoss: 0.487550\n",
            "Train Epoch: 3 [2048/2244 (89%)]\tLoss: 0.470437\n",
            "Train Epoch: 3 [1156/2244 (94%)]\tLoss: 0.395380\n",
            "\n",
            "Validation set: Average loss: 0.4897, Accuracy: 433/561 (77%)\n",
            "\n",
            "Train Epoch: 4 [0/2244 (0%)]\tLoss: 0.486950\n",
            "Train Epoch: 4 [128/2244 (6%)]\tLoss: 0.625089\n",
            "Train Epoch: 4 [256/2244 (11%)]\tLoss: 0.470273\n",
            "Train Epoch: 4 [384/2244 (17%)]\tLoss: 0.481783\n",
            "Train Epoch: 4 [512/2244 (22%)]\tLoss: 0.494361\n",
            "Train Epoch: 4 [640/2244 (28%)]\tLoss: 0.543028\n",
            "Train Epoch: 4 [768/2244 (33%)]\tLoss: 0.552976\n",
            "Train Epoch: 4 [896/2244 (39%)]\tLoss: 0.475737\n",
            "Train Epoch: 4 [1024/2244 (44%)]\tLoss: 0.449968\n",
            "Train Epoch: 4 [1152/2244 (50%)]\tLoss: 0.580130\n",
            "Train Epoch: 4 [1280/2244 (56%)]\tLoss: 0.515640\n",
            "Train Epoch: 4 [1408/2244 (61%)]\tLoss: 0.477782\n",
            "Train Epoch: 4 [1536/2244 (67%)]\tLoss: 0.453925\n",
            "Train Epoch: 4 [1664/2244 (72%)]\tLoss: 0.362938\n",
            "Train Epoch: 4 [1792/2244 (78%)]\tLoss: 0.404268\n",
            "Train Epoch: 4 [1920/2244 (83%)]\tLoss: 0.342532\n",
            "Train Epoch: 4 [2048/2244 (89%)]\tLoss: 0.465809\n",
            "Train Epoch: 4 [1156/2244 (94%)]\tLoss: 0.307281\n",
            "\n",
            "Validation set: Average loss: 0.4369, Accuracy: 444/561 (79%)\n",
            "\n",
            "Train Epoch: 5 [0/2244 (0%)]\tLoss: 0.493672\n",
            "Train Epoch: 5 [128/2244 (6%)]\tLoss: 0.439744\n",
            "Train Epoch: 5 [256/2244 (11%)]\tLoss: 0.511179\n",
            "Train Epoch: 5 [384/2244 (17%)]\tLoss: 0.412467\n",
            "Train Epoch: 5 [512/2244 (22%)]\tLoss: 0.401602\n",
            "Train Epoch: 5 [640/2244 (28%)]\tLoss: 0.475741\n",
            "Train Epoch: 5 [768/2244 (33%)]\tLoss: 0.505956\n",
            "Train Epoch: 5 [896/2244 (39%)]\tLoss: 0.504439\n",
            "Train Epoch: 5 [1024/2244 (44%)]\tLoss: 0.385875\n",
            "Train Epoch: 5 [1152/2244 (50%)]\tLoss: 0.418168\n",
            "Train Epoch: 5 [1280/2244 (56%)]\tLoss: 0.513785\n",
            "Train Epoch: 5 [1408/2244 (61%)]\tLoss: 0.422603\n",
            "Train Epoch: 5 [1536/2244 (67%)]\tLoss: 0.394718\n",
            "Train Epoch: 5 [1664/2244 (72%)]\tLoss: 0.400655\n",
            "Train Epoch: 5 [1792/2244 (78%)]\tLoss: 0.500734\n",
            "Train Epoch: 5 [1920/2244 (83%)]\tLoss: 0.477685\n",
            "Train Epoch: 5 [2048/2244 (89%)]\tLoss: 0.430043\n",
            "Train Epoch: 5 [1156/2244 (94%)]\tLoss: 0.400580\n",
            "\n",
            "Validation set: Average loss: 0.4198, Accuracy: 454/561 (81%)\n",
            "\n",
            "Train Epoch: 6 [0/2244 (0%)]\tLoss: 0.340459\n",
            "Train Epoch: 6 [128/2244 (6%)]\tLoss: 0.480362\n",
            "Train Epoch: 6 [256/2244 (11%)]\tLoss: 0.392475\n",
            "Train Epoch: 6 [384/2244 (17%)]\tLoss: 0.417405\n",
            "Train Epoch: 6 [512/2244 (22%)]\tLoss: 0.427067\n",
            "Train Epoch: 6 [640/2244 (28%)]\tLoss: 0.534306\n",
            "Train Epoch: 6 [768/2244 (33%)]\tLoss: 0.430497\n",
            "Train Epoch: 6 [896/2244 (39%)]\tLoss: 0.436994\n",
            "Train Epoch: 6 [1024/2244 (44%)]\tLoss: 0.407736\n",
            "Train Epoch: 6 [1152/2244 (50%)]\tLoss: 0.449386\n",
            "Train Epoch: 6 [1280/2244 (56%)]\tLoss: 0.370945\n",
            "Train Epoch: 6 [1408/2244 (61%)]\tLoss: 0.443086\n",
            "Train Epoch: 6 [1536/2244 (67%)]\tLoss: 0.431289\n",
            "Train Epoch: 6 [1664/2244 (72%)]\tLoss: 0.477019\n",
            "Train Epoch: 6 [1792/2244 (78%)]\tLoss: 0.365294\n",
            "Train Epoch: 6 [1920/2244 (83%)]\tLoss: 0.472027\n",
            "Train Epoch: 6 [2048/2244 (89%)]\tLoss: 0.453833\n",
            "Train Epoch: 6 [1156/2244 (94%)]\tLoss: 0.537621\n",
            "\n",
            "Validation set: Average loss: 0.4031, Accuracy: 461/561 (82%)\n",
            "\n",
            "Train Epoch: 7 [0/2244 (0%)]\tLoss: 0.456253\n",
            "Train Epoch: 7 [128/2244 (6%)]\tLoss: 0.377829\n",
            "Train Epoch: 7 [256/2244 (11%)]\tLoss: 0.437713\n",
            "Train Epoch: 7 [384/2244 (17%)]\tLoss: 0.425350\n",
            "Train Epoch: 7 [512/2244 (22%)]\tLoss: 0.466465\n",
            "Train Epoch: 7 [640/2244 (28%)]\tLoss: 0.420126\n",
            "Train Epoch: 7 [768/2244 (33%)]\tLoss: 0.421196\n",
            "Train Epoch: 7 [896/2244 (39%)]\tLoss: 0.452439\n",
            "Train Epoch: 7 [1024/2244 (44%)]\tLoss: 0.447259\n",
            "Train Epoch: 7 [1152/2244 (50%)]\tLoss: 0.576183\n",
            "Train Epoch: 7 [1280/2244 (56%)]\tLoss: 0.363832\n",
            "Train Epoch: 7 [1408/2244 (61%)]\tLoss: 0.514387\n",
            "Train Epoch: 7 [1536/2244 (67%)]\tLoss: 0.379926\n",
            "Train Epoch: 7 [1664/2244 (72%)]\tLoss: 0.413825\n",
            "Train Epoch: 7 [1792/2244 (78%)]\tLoss: 0.432695\n",
            "Train Epoch: 7 [1920/2244 (83%)]\tLoss: 0.465213\n",
            "Train Epoch: 7 [2048/2244 (89%)]\tLoss: 0.406825\n",
            "Train Epoch: 7 [1156/2244 (94%)]\tLoss: 0.423934\n",
            "\n",
            "Validation set: Average loss: 0.4041, Accuracy: 453/561 (81%)\n",
            "\n",
            "Train Epoch: 8 [0/2244 (0%)]\tLoss: 0.443334\n",
            "Train Epoch: 8 [128/2244 (6%)]\tLoss: 0.400687\n",
            "Train Epoch: 8 [256/2244 (11%)]\tLoss: 0.387733\n",
            "Train Epoch: 8 [384/2244 (17%)]\tLoss: 0.332729\n",
            "Train Epoch: 8 [512/2244 (22%)]\tLoss: 0.365036\n",
            "Train Epoch: 8 [640/2244 (28%)]\tLoss: 0.400250\n",
            "Train Epoch: 8 [768/2244 (33%)]\tLoss: 0.338741\n",
            "Train Epoch: 8 [896/2244 (39%)]\tLoss: 0.404493\n",
            "Train Epoch: 8 [1024/2244 (44%)]\tLoss: 0.438852\n",
            "Train Epoch: 8 [1152/2244 (50%)]\tLoss: 0.560476\n",
            "Train Epoch: 8 [1280/2244 (56%)]\tLoss: 0.444826\n",
            "Train Epoch: 8 [1408/2244 (61%)]\tLoss: 0.430157\n",
            "Train Epoch: 8 [1536/2244 (67%)]\tLoss: 0.367971\n",
            "Train Epoch: 8 [1664/2244 (72%)]\tLoss: 0.455772\n",
            "Train Epoch: 8 [1792/2244 (78%)]\tLoss: 0.410291\n",
            "Train Epoch: 8 [1920/2244 (83%)]\tLoss: 0.472656\n",
            "Train Epoch: 8 [2048/2244 (89%)]\tLoss: 0.432776\n",
            "Train Epoch: 8 [1156/2244 (94%)]\tLoss: 0.375690\n",
            "\n",
            "Validation set: Average loss: 0.3754, Accuracy: 466/561 (83%)\n",
            "\n",
            "Train Epoch: 9 [0/2244 (0%)]\tLoss: 0.368156\n",
            "Train Epoch: 9 [128/2244 (6%)]\tLoss: 0.350272\n",
            "Train Epoch: 9 [256/2244 (11%)]\tLoss: 0.395560\n",
            "Train Epoch: 9 [384/2244 (17%)]\tLoss: 0.406416\n",
            "Train Epoch: 9 [512/2244 (22%)]\tLoss: 0.416708\n",
            "Train Epoch: 9 [640/2244 (28%)]\tLoss: 0.330454\n",
            "Train Epoch: 9 [768/2244 (33%)]\tLoss: 0.332605\n",
            "Train Epoch: 9 [896/2244 (39%)]\tLoss: 0.411707\n",
            "Train Epoch: 9 [1024/2244 (44%)]\tLoss: 0.427026\n",
            "Train Epoch: 9 [1152/2244 (50%)]\tLoss: 0.448193\n",
            "Train Epoch: 9 [1280/2244 (56%)]\tLoss: 0.396649\n",
            "Train Epoch: 9 [1408/2244 (61%)]\tLoss: 0.334854\n",
            "Train Epoch: 9 [1536/2244 (67%)]\tLoss: 0.372627\n",
            "Train Epoch: 9 [1664/2244 (72%)]\tLoss: 0.429725\n",
            "Train Epoch: 9 [1792/2244 (78%)]\tLoss: 0.422002\n",
            "Train Epoch: 9 [1920/2244 (83%)]\tLoss: 0.370322\n",
            "Train Epoch: 9 [2048/2244 (89%)]\tLoss: 0.349398\n",
            "Train Epoch: 9 [1156/2244 (94%)]\tLoss: 0.373261\n",
            "\n",
            "Validation set: Average loss: 0.3705, Accuracy: 474/561 (84%)\n",
            "\n",
            "Train Epoch: 10 [0/2244 (0%)]\tLoss: 0.348517\n",
            "Train Epoch: 10 [128/2244 (6%)]\tLoss: 0.413310\n",
            "Train Epoch: 10 [256/2244 (11%)]\tLoss: 0.361380\n",
            "Train Epoch: 10 [384/2244 (17%)]\tLoss: 0.338194\n",
            "Train Epoch: 10 [512/2244 (22%)]\tLoss: 0.394103\n",
            "Train Epoch: 10 [640/2244 (28%)]\tLoss: 0.318049\n",
            "Train Epoch: 10 [768/2244 (33%)]\tLoss: 0.336905\n",
            "Train Epoch: 10 [896/2244 (39%)]\tLoss: 0.353437\n",
            "Train Epoch: 10 [1024/2244 (44%)]\tLoss: 0.425863\n",
            "Train Epoch: 10 [1152/2244 (50%)]\tLoss: 0.548478\n",
            "Train Epoch: 10 [1280/2244 (56%)]\tLoss: 0.339428\n",
            "Train Epoch: 10 [1408/2244 (61%)]\tLoss: 0.350176\n",
            "Train Epoch: 10 [1536/2244 (67%)]\tLoss: 0.532300\n",
            "Train Epoch: 10 [1664/2244 (72%)]\tLoss: 0.350141\n",
            "Train Epoch: 10 [1792/2244 (78%)]\tLoss: 0.355207\n",
            "Train Epoch: 10 [1920/2244 (83%)]\tLoss: 0.418871\n",
            "Train Epoch: 10 [2048/2244 (89%)]\tLoss: 0.448744\n",
            "Train Epoch: 10 [1156/2244 (94%)]\tLoss: 0.326785\n",
            "\n",
            "Validation set: Average loss: 0.3608, Accuracy: 480/561 (86%)\n",
            "\n",
            "Train Epoch: 11 [0/2244 (0%)]\tLoss: 0.309224\n",
            "Train Epoch: 11 [128/2244 (6%)]\tLoss: 0.327942\n",
            "Train Epoch: 11 [256/2244 (11%)]\tLoss: 0.400696\n",
            "Train Epoch: 11 [384/2244 (17%)]\tLoss: 0.373710\n",
            "Train Epoch: 11 [512/2244 (22%)]\tLoss: 0.363955\n",
            "Train Epoch: 11 [640/2244 (28%)]\tLoss: 0.327594\n",
            "Train Epoch: 11 [768/2244 (33%)]\tLoss: 0.406394\n",
            "Train Epoch: 11 [896/2244 (39%)]\tLoss: 0.479250\n",
            "Train Epoch: 11 [1024/2244 (44%)]\tLoss: 0.391685\n",
            "Train Epoch: 11 [1152/2244 (50%)]\tLoss: 0.309800\n",
            "Train Epoch: 11 [1280/2244 (56%)]\tLoss: 0.390870\n",
            "Train Epoch: 11 [1408/2244 (61%)]\tLoss: 0.302501\n",
            "Train Epoch: 11 [1536/2244 (67%)]\tLoss: 0.325700\n",
            "Train Epoch: 11 [1664/2244 (72%)]\tLoss: 0.383537\n",
            "Train Epoch: 11 [1792/2244 (78%)]\tLoss: 0.334660\n",
            "Train Epoch: 11 [1920/2244 (83%)]\tLoss: 0.280415\n",
            "Train Epoch: 11 [2048/2244 (89%)]\tLoss: 0.367777\n",
            "Train Epoch: 11 [1156/2244 (94%)]\tLoss: 0.354106\n",
            "\n",
            "Validation set: Average loss: 0.3288, Accuracy: 479/561 (85%)\n",
            "\n",
            "Train Epoch: 12 [0/2244 (0%)]\tLoss: 0.294268\n",
            "Train Epoch: 12 [128/2244 (6%)]\tLoss: 0.386969\n",
            "Train Epoch: 12 [256/2244 (11%)]\tLoss: 0.383285\n",
            "Train Epoch: 12 [384/2244 (17%)]\tLoss: 0.358881\n",
            "Train Epoch: 12 [512/2244 (22%)]\tLoss: 0.287383\n",
            "Train Epoch: 12 [640/2244 (28%)]\tLoss: 0.368309\n",
            "Train Epoch: 12 [768/2244 (33%)]\tLoss: 0.323624\n",
            "Train Epoch: 12 [896/2244 (39%)]\tLoss: 0.359856\n",
            "Train Epoch: 12 [1024/2244 (44%)]\tLoss: 0.326028\n",
            "Train Epoch: 12 [1152/2244 (50%)]\tLoss: 0.263792\n",
            "Train Epoch: 12 [1280/2244 (56%)]\tLoss: 0.272082\n",
            "Train Epoch: 12 [1408/2244 (61%)]\tLoss: 0.317943\n",
            "Train Epoch: 12 [1536/2244 (67%)]\tLoss: 0.373682\n",
            "Train Epoch: 12 [1664/2244 (72%)]\tLoss: 0.323761\n",
            "Train Epoch: 12 [1792/2244 (78%)]\tLoss: 0.299806\n",
            "Train Epoch: 12 [1920/2244 (83%)]\tLoss: 0.248308\n",
            "Train Epoch: 12 [2048/2244 (89%)]\tLoss: 0.348258\n",
            "Train Epoch: 12 [1156/2244 (94%)]\tLoss: 0.304514\n",
            "\n",
            "Validation set: Average loss: 0.3029, Accuracy: 490/561 (87%)\n",
            "\n",
            "Train Epoch: 13 [0/2244 (0%)]\tLoss: 0.266556\n",
            "Train Epoch: 13 [128/2244 (6%)]\tLoss: 0.332711\n",
            "Train Epoch: 13 [256/2244 (11%)]\tLoss: 0.290418\n",
            "Train Epoch: 13 [384/2244 (17%)]\tLoss: 0.211722\n",
            "Train Epoch: 13 [512/2244 (22%)]\tLoss: 0.233345\n",
            "Train Epoch: 13 [640/2244 (28%)]\tLoss: 0.504826\n",
            "Train Epoch: 13 [768/2244 (33%)]\tLoss: 0.351014\n",
            "Train Epoch: 13 [896/2244 (39%)]\tLoss: 0.378363\n",
            "Train Epoch: 13 [1024/2244 (44%)]\tLoss: 0.322386\n",
            "Train Epoch: 13 [1152/2244 (50%)]\tLoss: 0.258868\n",
            "Train Epoch: 13 [1280/2244 (56%)]\tLoss: 0.362794\n",
            "Train Epoch: 13 [1408/2244 (61%)]\tLoss: 0.351901\n",
            "Train Epoch: 13 [1536/2244 (67%)]\tLoss: 0.384208\n",
            "Train Epoch: 13 [1664/2244 (72%)]\tLoss: 0.474756\n",
            "Train Epoch: 13 [1792/2244 (78%)]\tLoss: 0.263005\n",
            "Train Epoch: 13 [1920/2244 (83%)]\tLoss: 0.397507\n",
            "Train Epoch: 13 [2048/2244 (89%)]\tLoss: 0.313524\n",
            "Train Epoch: 13 [1156/2244 (94%)]\tLoss: 0.361273\n",
            "\n",
            "Validation set: Average loss: 0.3278, Accuracy: 482/561 (86%)\n",
            "\n",
            "Train Epoch: 14 [0/2244 (0%)]\tLoss: 0.288402\n",
            "Train Epoch: 14 [128/2244 (6%)]\tLoss: 0.315768\n",
            "Train Epoch: 14 [256/2244 (11%)]\tLoss: 0.336676\n",
            "Train Epoch: 14 [384/2244 (17%)]\tLoss: 0.326554\n",
            "Train Epoch: 14 [512/2244 (22%)]\tLoss: 0.331223\n",
            "Train Epoch: 14 [640/2244 (28%)]\tLoss: 0.293655\n",
            "Train Epoch: 14 [768/2244 (33%)]\tLoss: 0.356366\n",
            "Train Epoch: 14 [896/2244 (39%)]\tLoss: 0.339375\n",
            "Train Epoch: 14 [1024/2244 (44%)]\tLoss: 0.278932\n",
            "Train Epoch: 14 [1152/2244 (50%)]\tLoss: 0.324577\n",
            "Train Epoch: 14 [1280/2244 (56%)]\tLoss: 0.237865\n",
            "Train Epoch: 14 [1408/2244 (61%)]\tLoss: 0.321400\n",
            "Train Epoch: 14 [1536/2244 (67%)]\tLoss: 0.255893\n",
            "Train Epoch: 14 [1664/2244 (72%)]\tLoss: 0.296178\n",
            "Train Epoch: 14 [1792/2244 (78%)]\tLoss: 0.405772\n",
            "Train Epoch: 14 [1920/2244 (83%)]\tLoss: 0.278903\n",
            "Train Epoch: 14 [2048/2244 (89%)]\tLoss: 0.245708\n",
            "Train Epoch: 14 [1156/2244 (94%)]\tLoss: 0.229099\n",
            "\n",
            "Validation set: Average loss: 0.3071, Accuracy: 492/561 (88%)\n",
            "\n",
            "Train Epoch: 15 [0/2244 (0%)]\tLoss: 0.240766\n",
            "Train Epoch: 15 [128/2244 (6%)]\tLoss: 0.235699\n",
            "Train Epoch: 15 [256/2244 (11%)]\tLoss: 0.297988\n",
            "Train Epoch: 15 [384/2244 (17%)]\tLoss: 0.259006\n",
            "Train Epoch: 15 [512/2244 (22%)]\tLoss: 0.341547\n",
            "Train Epoch: 15 [640/2244 (28%)]\tLoss: 0.231059\n",
            "Train Epoch: 15 [768/2244 (33%)]\tLoss: 0.302536\n",
            "Train Epoch: 15 [896/2244 (39%)]\tLoss: 0.228012\n",
            "Train Epoch: 15 [1024/2244 (44%)]\tLoss: 0.151418\n",
            "Train Epoch: 15 [1152/2244 (50%)]\tLoss: 0.331217\n",
            "Train Epoch: 15 [1280/2244 (56%)]\tLoss: 0.246437\n",
            "Train Epoch: 15 [1408/2244 (61%)]\tLoss: 0.217096\n",
            "Train Epoch: 15 [1536/2244 (67%)]\tLoss: 0.229089\n",
            "Train Epoch: 15 [1664/2244 (72%)]\tLoss: 0.292311\n",
            "Train Epoch: 15 [1792/2244 (78%)]\tLoss: 0.386264\n",
            "Train Epoch: 15 [1920/2244 (83%)]\tLoss: 0.215055\n",
            "Train Epoch: 15 [2048/2244 (89%)]\tLoss: 0.261016\n",
            "Train Epoch: 15 [1156/2244 (94%)]\tLoss: 0.333617\n",
            "\n",
            "Validation set: Average loss: 0.3017, Accuracy: 489/561 (87%)\n",
            "\n",
            "Train Epoch: 16 [0/2244 (0%)]\tLoss: 0.309950\n",
            "Train Epoch: 16 [128/2244 (6%)]\tLoss: 0.208284\n",
            "Train Epoch: 16 [256/2244 (11%)]\tLoss: 0.176614\n",
            "Train Epoch: 16 [384/2244 (17%)]\tLoss: 0.270117\n",
            "Train Epoch: 16 [512/2244 (22%)]\tLoss: 0.187209\n",
            "Train Epoch: 16 [640/2244 (28%)]\tLoss: 0.260093\n",
            "Train Epoch: 16 [768/2244 (33%)]\tLoss: 0.280570\n",
            "Train Epoch: 16 [896/2244 (39%)]\tLoss: 0.245875\n",
            "Train Epoch: 16 [1024/2244 (44%)]\tLoss: 0.167174\n",
            "Train Epoch: 16 [1152/2244 (50%)]\tLoss: 0.239648\n",
            "Train Epoch: 16 [1280/2244 (56%)]\tLoss: 0.329833\n",
            "Train Epoch: 16 [1408/2244 (61%)]\tLoss: 0.239989\n",
            "Train Epoch: 16 [1536/2244 (67%)]\tLoss: 0.253360\n",
            "Train Epoch: 16 [1664/2244 (72%)]\tLoss: 0.232919\n",
            "Train Epoch: 16 [1792/2244 (78%)]\tLoss: 0.243591\n",
            "Train Epoch: 16 [1920/2244 (83%)]\tLoss: 0.181500\n",
            "Train Epoch: 16 [2048/2244 (89%)]\tLoss: 0.233307\n",
            "Train Epoch: 16 [1156/2244 (94%)]\tLoss: 0.191324\n",
            "\n",
            "Validation set: Average loss: 0.3093, Accuracy: 488/561 (87%)\n",
            "\n",
            "Train Epoch: 17 [0/2244 (0%)]\tLoss: 0.179825\n",
            "Train Epoch: 17 [128/2244 (6%)]\tLoss: 0.192031\n",
            "Train Epoch: 17 [256/2244 (11%)]\tLoss: 0.194859\n",
            "Train Epoch: 17 [384/2244 (17%)]\tLoss: 0.142264\n",
            "Train Epoch: 17 [512/2244 (22%)]\tLoss: 0.307225\n",
            "Train Epoch: 17 [640/2244 (28%)]\tLoss: 0.245150\n",
            "Train Epoch: 17 [768/2244 (33%)]\tLoss: 0.251967\n",
            "Train Epoch: 17 [896/2244 (39%)]\tLoss: 0.215977\n",
            "Train Epoch: 17 [1024/2244 (44%)]\tLoss: 0.193560\n",
            "Train Epoch: 17 [1152/2244 (50%)]\tLoss: 0.153254\n",
            "Train Epoch: 17 [1280/2244 (56%)]\tLoss: 0.180589\n",
            "Train Epoch: 17 [1408/2244 (61%)]\tLoss: 0.335609\n",
            "Train Epoch: 17 [1536/2244 (67%)]\tLoss: 0.176561\n",
            "Train Epoch: 17 [1664/2244 (72%)]\tLoss: 0.267464\n",
            "Train Epoch: 17 [1792/2244 (78%)]\tLoss: 0.206457\n",
            "Train Epoch: 17 [1920/2244 (83%)]\tLoss: 0.247844\n",
            "Train Epoch: 17 [2048/2244 (89%)]\tLoss: 0.182023\n",
            "Train Epoch: 17 [1156/2244 (94%)]\tLoss: 0.212263\n",
            "\n",
            "Validation set: Average loss: 0.3091, Accuracy: 489/561 (87%)\n",
            "\n",
            "Train Epoch: 18 [0/2244 (0%)]\tLoss: 0.163846\n",
            "Train Epoch: 18 [128/2244 (6%)]\tLoss: 0.172152\n",
            "Train Epoch: 18 [256/2244 (11%)]\tLoss: 0.155713\n",
            "Train Epoch: 18 [384/2244 (17%)]\tLoss: 0.225155\n",
            "Train Epoch: 18 [512/2244 (22%)]\tLoss: 0.176548\n",
            "Train Epoch: 18 [640/2244 (28%)]\tLoss: 0.198230\n",
            "Train Epoch: 18 [768/2244 (33%)]\tLoss: 0.189864\n",
            "Train Epoch: 18 [896/2244 (39%)]\tLoss: 0.229231\n",
            "Train Epoch: 18 [1024/2244 (44%)]\tLoss: 0.226275\n",
            "Train Epoch: 18 [1152/2244 (50%)]\tLoss: 0.201684\n",
            "Train Epoch: 18 [1280/2244 (56%)]\tLoss: 0.183529\n",
            "Train Epoch: 18 [1408/2244 (61%)]\tLoss: 0.131298\n",
            "Train Epoch: 18 [1536/2244 (67%)]\tLoss: 0.183509\n",
            "Train Epoch: 18 [1664/2244 (72%)]\tLoss: 0.315991\n",
            "Train Epoch: 18 [1792/2244 (78%)]\tLoss: 0.269206\n",
            "Train Epoch: 18 [1920/2244 (83%)]\tLoss: 0.253015\n",
            "Train Epoch: 18 [2048/2244 (89%)]\tLoss: 0.190668\n",
            "Train Epoch: 18 [1156/2244 (94%)]\tLoss: 0.291450\n",
            "\n",
            "Validation set: Average loss: 0.3362, Accuracy: 487/561 (87%)\n",
            "\n",
            "Train Epoch: 19 [0/2244 (0%)]\tLoss: 0.213249\n",
            "Train Epoch: 19 [128/2244 (6%)]\tLoss: 0.176822\n",
            "Train Epoch: 19 [256/2244 (11%)]\tLoss: 0.109509\n",
            "Train Epoch: 19 [384/2244 (17%)]\tLoss: 0.126286\n",
            "Train Epoch: 19 [512/2244 (22%)]\tLoss: 0.113678\n",
            "Train Epoch: 19 [640/2244 (28%)]\tLoss: 0.168315\n",
            "Train Epoch: 19 [768/2244 (33%)]\tLoss: 0.222668\n",
            "Train Epoch: 19 [896/2244 (39%)]\tLoss: 0.269487\n",
            "Train Epoch: 19 [1024/2244 (44%)]\tLoss: 0.269889\n",
            "Train Epoch: 19 [1152/2244 (50%)]\tLoss: 0.070254\n",
            "Train Epoch: 19 [1280/2244 (56%)]\tLoss: 0.178593\n",
            "Train Epoch: 19 [1408/2244 (61%)]\tLoss: 0.223589\n",
            "Train Epoch: 19 [1536/2244 (67%)]\tLoss: 0.178131\n",
            "Train Epoch: 19 [1664/2244 (72%)]\tLoss: 0.183243\n",
            "Train Epoch: 19 [1792/2244 (78%)]\tLoss: 0.173298\n",
            "Train Epoch: 19 [1920/2244 (83%)]\tLoss: 0.127412\n",
            "Train Epoch: 19 [2048/2244 (89%)]\tLoss: 0.273024\n",
            "Train Epoch: 19 [1156/2244 (94%)]\tLoss: 0.106468\n",
            "\n",
            "Validation set: Average loss: 0.3481, Accuracy: 494/561 (88%)\n",
            "\n",
            "Train Epoch: 20 [0/2244 (0%)]\tLoss: 0.150365\n",
            "Train Epoch: 20 [128/2244 (6%)]\tLoss: 0.135728\n",
            "Train Epoch: 20 [256/2244 (11%)]\tLoss: 0.092986\n",
            "Train Epoch: 20 [384/2244 (17%)]\tLoss: 0.132678\n",
            "Train Epoch: 20 [512/2244 (22%)]\tLoss: 0.103774\n",
            "Train Epoch: 20 [640/2244 (28%)]\tLoss: 0.160971\n",
            "Train Epoch: 20 [768/2244 (33%)]\tLoss: 0.118518\n",
            "Train Epoch: 20 [896/2244 (39%)]\tLoss: 0.287889\n",
            "Train Epoch: 20 [1024/2244 (44%)]\tLoss: 0.118924\n",
            "Train Epoch: 20 [1152/2244 (50%)]\tLoss: 0.093647\n",
            "Train Epoch: 20 [1280/2244 (56%)]\tLoss: 0.063487\n",
            "Train Epoch: 20 [1408/2244 (61%)]\tLoss: 0.199787\n",
            "Train Epoch: 20 [1536/2244 (67%)]\tLoss: 0.177147\n",
            "Train Epoch: 20 [1664/2244 (72%)]\tLoss: 0.107823\n",
            "Train Epoch: 20 [1792/2244 (78%)]\tLoss: 0.153583\n",
            "Train Epoch: 20 [1920/2244 (83%)]\tLoss: 0.126221\n",
            "Train Epoch: 20 [2048/2244 (89%)]\tLoss: 0.139855\n",
            "Train Epoch: 20 [1156/2244 (94%)]\tLoss: 0.129515\n",
            "\n",
            "Validation set: Average loss: 0.4726, Accuracy: 472/561 (84%)\n",
            "\n",
            "Train Epoch: 21 [0/2244 (0%)]\tLoss: 0.104897\n",
            "Train Epoch: 21 [128/2244 (6%)]\tLoss: 0.166423\n",
            "Train Epoch: 21 [256/2244 (11%)]\tLoss: 0.166194\n",
            "Train Epoch: 21 [384/2244 (17%)]\tLoss: 0.191944\n",
            "Train Epoch: 21 [512/2244 (22%)]\tLoss: 0.108685\n",
            "Train Epoch: 21 [640/2244 (28%)]\tLoss: 0.051612\n",
            "Train Epoch: 21 [768/2244 (33%)]\tLoss: 0.107000\n",
            "Train Epoch: 21 [896/2244 (39%)]\tLoss: 0.050900\n",
            "Train Epoch: 21 [1024/2244 (44%)]\tLoss: 0.101511\n",
            "Train Epoch: 21 [1152/2244 (50%)]\tLoss: 0.187799\n",
            "Train Epoch: 21 [1280/2244 (56%)]\tLoss: 0.155107\n",
            "Train Epoch: 21 [1408/2244 (61%)]\tLoss: 0.150786\n",
            "Train Epoch: 21 [1536/2244 (67%)]\tLoss: 0.136910\n",
            "Train Epoch: 21 [1664/2244 (72%)]\tLoss: 0.116758\n",
            "Train Epoch: 21 [1792/2244 (78%)]\tLoss: 0.087912\n",
            "Train Epoch: 21 [1920/2244 (83%)]\tLoss: 0.234849\n",
            "Train Epoch: 21 [2048/2244 (89%)]\tLoss: 0.101223\n",
            "Train Epoch: 21 [1156/2244 (94%)]\tLoss: 0.190051\n",
            "\n",
            "Validation set: Average loss: 0.4298, Accuracy: 482/561 (86%)\n",
            "\n",
            "Train Epoch: 22 [0/2244 (0%)]\tLoss: 0.206668\n",
            "Train Epoch: 22 [128/2244 (6%)]\tLoss: 0.105288\n",
            "Train Epoch: 22 [256/2244 (11%)]\tLoss: 0.097706\n",
            "Train Epoch: 22 [384/2244 (17%)]\tLoss: 0.057914\n",
            "Train Epoch: 22 [512/2244 (22%)]\tLoss: 0.057034\n",
            "Train Epoch: 22 [640/2244 (28%)]\tLoss: 0.134997\n",
            "Train Epoch: 22 [768/2244 (33%)]\tLoss: 0.078043\n",
            "Train Epoch: 22 [896/2244 (39%)]\tLoss: 0.116918\n",
            "Train Epoch: 22 [1024/2244 (44%)]\tLoss: 0.043902\n",
            "Train Epoch: 22 [1152/2244 (50%)]\tLoss: 0.061203\n",
            "Train Epoch: 22 [1280/2244 (56%)]\tLoss: 0.091156\n",
            "Train Epoch: 22 [1408/2244 (61%)]\tLoss: 0.149570\n",
            "Train Epoch: 22 [1536/2244 (67%)]\tLoss: 0.103754\n",
            "Train Epoch: 22 [1664/2244 (72%)]\tLoss: 0.090838\n",
            "Train Epoch: 22 [1792/2244 (78%)]\tLoss: 0.081800\n",
            "Train Epoch: 22 [1920/2244 (83%)]\tLoss: 0.134562\n",
            "Train Epoch: 22 [2048/2244 (89%)]\tLoss: 0.138205\n",
            "Train Epoch: 22 [1156/2244 (94%)]\tLoss: 0.123863\n",
            "\n",
            "Validation set: Average loss: 0.3883, Accuracy: 489/561 (87%)\n",
            "\n",
            "Train Epoch: 23 [0/2244 (0%)]\tLoss: 0.094594\n",
            "Train Epoch: 23 [128/2244 (6%)]\tLoss: 0.123114\n",
            "Train Epoch: 23 [256/2244 (11%)]\tLoss: 0.091823\n",
            "Train Epoch: 23 [384/2244 (17%)]\tLoss: 0.087637\n",
            "Train Epoch: 23 [512/2244 (22%)]\tLoss: 0.094796\n",
            "Train Epoch: 23 [640/2244 (28%)]\tLoss: 0.090073\n",
            "Train Epoch: 23 [768/2244 (33%)]\tLoss: 0.123280\n",
            "Train Epoch: 23 [896/2244 (39%)]\tLoss: 0.042078\n",
            "Train Epoch: 23 [1024/2244 (44%)]\tLoss: 0.073060\n",
            "Train Epoch: 23 [1152/2244 (50%)]\tLoss: 0.096849\n",
            "Train Epoch: 23 [1280/2244 (56%)]\tLoss: 0.066192\n",
            "Train Epoch: 23 [1408/2244 (61%)]\tLoss: 0.075599\n",
            "Train Epoch: 23 [1536/2244 (67%)]\tLoss: 0.210180\n",
            "Train Epoch: 23 [1664/2244 (72%)]\tLoss: 0.132167\n",
            "Train Epoch: 23 [1792/2244 (78%)]\tLoss: 0.118929\n",
            "Train Epoch: 23 [1920/2244 (83%)]\tLoss: 0.094042\n",
            "Train Epoch: 23 [2048/2244 (89%)]\tLoss: 0.062653\n",
            "Train Epoch: 23 [1156/2244 (94%)]\tLoss: 0.067890\n",
            "\n",
            "Validation set: Average loss: 0.3985, Accuracy: 488/561 (87%)\n",
            "\n",
            "Train Epoch: 24 [0/2244 (0%)]\tLoss: 0.041417\n",
            "Train Epoch: 24 [128/2244 (6%)]\tLoss: 0.114174\n",
            "Train Epoch: 24 [256/2244 (11%)]\tLoss: 0.093905\n",
            "Train Epoch: 24 [384/2244 (17%)]\tLoss: 0.043075\n",
            "Train Epoch: 24 [512/2244 (22%)]\tLoss: 0.051048\n",
            "Train Epoch: 24 [640/2244 (28%)]\tLoss: 0.043332\n",
            "Train Epoch: 24 [768/2244 (33%)]\tLoss: 0.045194\n",
            "Train Epoch: 24 [896/2244 (39%)]\tLoss: 0.084483\n",
            "Train Epoch: 24 [1024/2244 (44%)]\tLoss: 0.051379\n",
            "Train Epoch: 24 [1152/2244 (50%)]\tLoss: 0.122976\n",
            "Train Epoch: 24 [1280/2244 (56%)]\tLoss: 0.111518\n",
            "Train Epoch: 24 [1408/2244 (61%)]\tLoss: 0.084383\n",
            "Train Epoch: 24 [1536/2244 (67%)]\tLoss: 0.065379\n",
            "Train Epoch: 24 [1664/2244 (72%)]\tLoss: 0.184498\n",
            "Train Epoch: 24 [1792/2244 (78%)]\tLoss: 0.091013\n",
            "Train Epoch: 24 [1920/2244 (83%)]\tLoss: 0.069089\n",
            "Train Epoch: 24 [2048/2244 (89%)]\tLoss: 0.102546\n",
            "Train Epoch: 24 [1156/2244 (94%)]\tLoss: 0.014599\n",
            "\n",
            "Validation set: Average loss: 0.4770, Accuracy: 491/561 (88%)\n",
            "\n",
            "CPU times: user 1min 11s, sys: 14.9 s, total: 1min 26s\n",
            "Wall time: 36min 37s\n"
          ],
          "name": "stdout"
        }
      ]
    },
    {
      "cell_type": "markdown",
      "metadata": {
        "id": "P1PxvOTn4HSm"
      },
      "source": [
        "The evolution of the training of this second model is similar to the model without the size feature."
      ]
    },
    {
      "cell_type": "markdown",
      "metadata": {
        "id": "Dsln7UM0jGsR"
      },
      "source": [
        "## 7.4- Evaluation of the image size importance "
      ]
    },
    {
      "cell_type": "markdown",
      "metadata": {
        "id": "okyMtQLSzukR"
      },
      "source": [
        "Since we added the image size at the last layer for interpretability, we can now inspect its weights to see if it has a real effect when plugging it with direct connection to the output layer.\n",
        "\n",
        "As it is printed below, the weight for the valuable class is one order of magnitude higher (as it was expected), so the net has effectively learnt to use this input to support the classification."
      ]
    },
    {
      "cell_type": "code",
      "metadata": {
        "colab": {
          "base_uri": "https://localhost:8080/"
        },
        "id": "JSorAiYsxJmB",
        "outputId": "6fbbd954-2330-44ee-d808-c4cfc7ffb05c"
      },
      "source": [
        "weight_meme = model_wsize.state_dict()['fc3.weight'][0][-1]\n",
        "weight_valuable = model_wsize.state_dict()['fc3.weight'][1][-1]\n",
        "print(f'The two weights for the size node are {weight_meme:.4f} for meme class and {weight_valuable:.4f} for valuable class')"
      ],
      "execution_count": 32,
      "outputs": [
        {
          "output_type": "stream",
          "text": [
            "The two weights for the size node are 0.0077 for meme class and 0.0817 for valuable class\n"
          ],
          "name": "stdout"
        }
      ]
    },
    {
      "cell_type": "markdown",
      "metadata": {
        "id": "n4O-hf7E3hLG"
      },
      "source": [
        "This is not a conclusive bottomline for the usefulness of the image size feature. Crafting a different set of linear layer to concatenate it earlier can lead to this feature having synergies with other nodes (image features).\n",
        "This will be left for the future."
      ]
    },
    {
      "cell_type": "markdown",
      "metadata": {
        "id": "LtsxorVE4n-X"
      },
      "source": [
        "## 7.5- Confusion matrix"
      ]
    },
    {
      "cell_type": "markdown",
      "metadata": {
        "id": "i57JadoWhrvN"
      },
      "source": [
        "It is straight forward to display the confusion matrix. Note that this results were obtained after 24 epochs, hence these are results are affected by overfitting."
      ]
    },
    {
      "cell_type": "code",
      "metadata": {
        "id": "T7g_Tcif5DQH"
      },
      "source": [
        "with torch.no_grad():\n",
        "    for data in validation_loader_wsize:\n",
        "        images_wsize, labels_wsize, sizes = data\n",
        "        images_wsize = images_wsize.to(device)\n",
        "        labels_wsize = labels_wsize.to(device)\n",
        "        sizes = sizes.to(device)\n",
        "        outputs_wsize = model_wsize(images_wsize, sizes.float())\n",
        "        _, predicted_wsize = torch.max(outputs_wsize, 1)"
      ],
      "execution_count": 33,
      "outputs": []
    },
    {
      "cell_type": "code",
      "metadata": {
        "colab": {
          "base_uri": "https://localhost:8080/"
        },
        "id": "-yNrlsqQ4qyY",
        "outputId": "cbc14b72-5015-46e1-dd5b-98cc03d12c6d"
      },
      "source": [
        "stacked = torch.stack(\n",
        "    (\n",
        "        labels_wsize,\n",
        "        predicted_wsize\n",
        "    ),\n",
        "    dim=1\n",
        ")\n",
        "\n",
        "cmt = torch.zeros(2,2, dtype=torch.int64)\n",
        "for p in stacked:\n",
        "    tl, pl = p.tolist()\n",
        "    cmt[tl, pl] = cmt[tl, pl] + 1\n",
        "print(cmt, classes)"
      ],
      "execution_count": 34,
      "outputs": [
        {
          "output_type": "stream",
          "text": [
            "tensor([[294,  26],\n",
            "        [ 44, 197]]) ['meme', 'valuable']\n"
          ],
          "name": "stdout"
        }
      ]
    },
    {
      "cell_type": "markdown",
      "metadata": {
        "id": "bwNlOwD19Vsu"
      },
      "source": [
        "# 8- Plotting the training results"
      ]
    },
    {
      "cell_type": "markdown",
      "metadata": {
        "id": "IU8-Cc5I9Z0i"
      },
      "source": [
        "## 8.1- Environment set-up"
      ]
    },
    {
      "cell_type": "code",
      "metadata": {
        "id": "HStnvaGaRkln"
      },
      "source": [
        "import plotly.graph_objects as go"
      ],
      "execution_count": 35,
      "outputs": []
    },
    {
      "cell_type": "markdown",
      "metadata": {
        "id": "ZRGqViQcjRpg"
      },
      "source": [
        "## 8.2- Training performance without image size"
      ]
    },
    {
      "cell_type": "markdown",
      "metadata": {
        "id": "w2R--BNVjXZJ"
      },
      "source": [
        "In the plot below the training and validation loss as well as the accuracy on the validation set after each epoch is presented. \n",
        "\n",
        "As it can be seen, overfitting starts to be salient after the sweet spot at epochs 18-20."
      ]
    },
    {
      "cell_type": "code",
      "metadata": {
        "colab": {
          "base_uri": "https://localhost:8080/",
          "height": 542
        },
        "id": "auNSuOCJUMga",
        "outputId": "0eb2f575-f32f-487c-931d-416ecad72682"
      },
      "source": [
        "x = np.arange(len(exp_dict['train_loss']))\n",
        "\n",
        "fig = go.Figure()\n",
        "fig.add_trace(go.Scatter(x=x, y=exp_dict['train_loss'],\n",
        "                    mode='lines',\n",
        "                    name='train_loss'))\n",
        "fig.add_trace(go.Scatter(x=x, y=exp_dict['validation_loss'],\n",
        "                    mode='lines',\n",
        "                    name='validation_loss'))\n",
        "fig.add_trace(go.Scatter(x=x, y=[n/100 for n in exp_dict['validation_accuracy']],\n",
        "                    mode='lines',\n",
        "                    name='validation_accuracy'))\n",
        "fig.update_layout(title='CNN without image size training',\n",
        "                   xaxis_title='Epoch',\n",
        "                   yaxis_title='Loss & Accuracy(%)/100')\n",
        "fig.show()"
      ],
      "execution_count": 36,
      "outputs": [
        {
          "output_type": "display_data",
          "data": {
            "text/html": [
              "<html>\n",
              "<head><meta charset=\"utf-8\" /></head>\n",
              "<body>\n",
              "    <div>\n",
              "            <script src=\"https://cdnjs.cloudflare.com/ajax/libs/mathjax/2.7.5/MathJax.js?config=TeX-AMS-MML_SVG\"></script><script type=\"text/javascript\">if (window.MathJax) {MathJax.Hub.Config({SVG: {font: \"STIX-Web\"}});}</script>\n",
              "                <script type=\"text/javascript\">window.PlotlyConfig = {MathJaxConfig: 'local'};</script>\n",
              "        <script src=\"https://cdn.plot.ly/plotly-latest.min.js\"></script>    \n",
              "            <div id=\"84d3157e-fa23-4062-87a3-a49ebb94fbc9\" class=\"plotly-graph-div\" style=\"height:525px; width:100%;\"></div>\n",
              "            <script type=\"text/javascript\">\n",
              "                \n",
              "                    window.PLOTLYENV=window.PLOTLYENV || {};\n",
              "                    \n",
              "                if (document.getElementById(\"84d3157e-fa23-4062-87a3-a49ebb94fbc9\")) {\n",
              "                    Plotly.newPlot(\n",
              "                        '84d3157e-fa23-4062-87a3-a49ebb94fbc9',\n",
              "                        [{\"mode\": \"lines\", \"name\": \"train_loss\", \"type\": \"scatter\", \"x\": [0, 1, 2, 3, 4, 5, 6, 7, 8, 9, 10, 11, 12, 13, 14, 15, 16, 17, 18, 19, 20, 21, 22, 23], \"y\": [0.6631414644858417, 0.552901417016983, 0.4787304313743816, 0.4500804438310511, 0.43902630665723014, 0.4240397898589863, 0.3982496103819679, 0.39113379751934724, 0.3874957368654363, 0.3665714491816128, 0.3478155714624068, 0.3467046635992387, 0.3094852470299777, 0.2854001714902766, 0.2651016124907662, 0.2323147102313883, 0.20156256153303034, 0.16328160114148083, 0.15729652564315236, 0.11341870795277988, 0.11889413809951614, 0.08870670396615477, 0.09197264668696067, 0.05942980189095525]}, {\"mode\": \"lines\", \"name\": \"validation_loss\", \"type\": \"scatter\", \"x\": [0, 1, 2, 3, 4, 5, 6, 7, 8, 9, 10, 11, 12, 13, 14, 15, 16, 17, 18, 19, 20, 21, 22, 23], \"y\": [0.6069037318229675, 0.5411500334739685, 0.5063555836677551, 0.5365476608276367, 0.4867314398288727, 0.4855862855911255, 0.47412532567977905, 0.49682220816612244, 0.49278005957603455, 0.5027801394462585, 0.4481961727142334, 0.41886550188064575, 0.43319281935691833, 0.455850213766098, 0.45183107256889343, 0.4256266951560974, 0.46716541051864624, 0.4690379798412323, 0.5268335342407227, 0.5595012307167053, 0.6954635381698608, 0.7379961609840393, 0.921696126461029, 0.7524113059043884]}, {\"mode\": \"lines\", \"name\": \"validation_accuracy\", \"type\": \"scatter\", \"x\": [0, 1, 2, 3, 4, 5, 6, 7, 8, 9, 10, 11, 12, 13, 14, 15, 16, 17, 18, 19, 20, 21, 22, 23], \"y\": [0.5739750289916992, 0.684491958618164, 0.7326203155517578, 0.7486631011962891, 0.7468805694580078, 0.7575757598876953, 0.7629233551025391, 0.7736185455322265, 0.7682709503173828, 0.7664884185791015, 0.8039215850830078, 0.8092691802978516, 0.8288770294189454, 0.819964370727539, 0.8395722198486328, 0.8413547515869141, 0.8306595611572266, 0.8324420928955079, 0.8377896881103516, 0.8092691802978516, 0.8253119659423828, 0.8092691802978516, 0.8431372833251953, 0.8413547515869141]}],\n",
              "                        {\"template\": {\"data\": {\"bar\": [{\"error_x\": {\"color\": \"#2a3f5f\"}, \"error_y\": {\"color\": \"#2a3f5f\"}, \"marker\": {\"line\": {\"color\": \"#E5ECF6\", \"width\": 0.5}}, \"type\": \"bar\"}], \"barpolar\": [{\"marker\": {\"line\": {\"color\": \"#E5ECF6\", \"width\": 0.5}}, \"type\": \"barpolar\"}], \"carpet\": [{\"aaxis\": {\"endlinecolor\": \"#2a3f5f\", \"gridcolor\": \"white\", \"linecolor\": \"white\", \"minorgridcolor\": \"white\", \"startlinecolor\": \"#2a3f5f\"}, \"baxis\": {\"endlinecolor\": \"#2a3f5f\", \"gridcolor\": \"white\", \"linecolor\": \"white\", \"minorgridcolor\": \"white\", \"startlinecolor\": \"#2a3f5f\"}, \"type\": \"carpet\"}], \"choropleth\": [{\"colorbar\": {\"outlinewidth\": 0, \"ticks\": \"\"}, \"type\": \"choropleth\"}], \"contour\": [{\"colorbar\": {\"outlinewidth\": 0, \"ticks\": \"\"}, \"colorscale\": [[0.0, \"#0d0887\"], [0.1111111111111111, \"#46039f\"], [0.2222222222222222, \"#7201a8\"], [0.3333333333333333, \"#9c179e\"], [0.4444444444444444, \"#bd3786\"], [0.5555555555555556, \"#d8576b\"], [0.6666666666666666, \"#ed7953\"], [0.7777777777777778, \"#fb9f3a\"], [0.8888888888888888, \"#fdca26\"], [1.0, \"#f0f921\"]], \"type\": \"contour\"}], \"contourcarpet\": [{\"colorbar\": {\"outlinewidth\": 0, \"ticks\": \"\"}, \"type\": \"contourcarpet\"}], \"heatmap\": [{\"colorbar\": {\"outlinewidth\": 0, \"ticks\": \"\"}, \"colorscale\": [[0.0, \"#0d0887\"], [0.1111111111111111, \"#46039f\"], [0.2222222222222222, \"#7201a8\"], [0.3333333333333333, \"#9c179e\"], [0.4444444444444444, \"#bd3786\"], [0.5555555555555556, \"#d8576b\"], [0.6666666666666666, \"#ed7953\"], [0.7777777777777778, \"#fb9f3a\"], [0.8888888888888888, \"#fdca26\"], [1.0, \"#f0f921\"]], \"type\": \"heatmap\"}], \"heatmapgl\": [{\"colorbar\": {\"outlinewidth\": 0, \"ticks\": \"\"}, \"colorscale\": [[0.0, \"#0d0887\"], [0.1111111111111111, \"#46039f\"], [0.2222222222222222, \"#7201a8\"], [0.3333333333333333, \"#9c179e\"], [0.4444444444444444, \"#bd3786\"], [0.5555555555555556, \"#d8576b\"], [0.6666666666666666, \"#ed7953\"], [0.7777777777777778, \"#fb9f3a\"], [0.8888888888888888, \"#fdca26\"], [1.0, \"#f0f921\"]], \"type\": \"heatmapgl\"}], \"histogram\": [{\"marker\": {\"colorbar\": {\"outlinewidth\": 0, \"ticks\": \"\"}}, \"type\": \"histogram\"}], \"histogram2d\": [{\"colorbar\": {\"outlinewidth\": 0, \"ticks\": \"\"}, \"colorscale\": [[0.0, \"#0d0887\"], [0.1111111111111111, \"#46039f\"], [0.2222222222222222, \"#7201a8\"], [0.3333333333333333, \"#9c179e\"], [0.4444444444444444, \"#bd3786\"], [0.5555555555555556, \"#d8576b\"], [0.6666666666666666, \"#ed7953\"], [0.7777777777777778, \"#fb9f3a\"], [0.8888888888888888, \"#fdca26\"], [1.0, \"#f0f921\"]], \"type\": \"histogram2d\"}], \"histogram2dcontour\": [{\"colorbar\": {\"outlinewidth\": 0, \"ticks\": \"\"}, \"colorscale\": [[0.0, \"#0d0887\"], [0.1111111111111111, \"#46039f\"], [0.2222222222222222, \"#7201a8\"], [0.3333333333333333, \"#9c179e\"], [0.4444444444444444, \"#bd3786\"], [0.5555555555555556, \"#d8576b\"], [0.6666666666666666, \"#ed7953\"], [0.7777777777777778, \"#fb9f3a\"], [0.8888888888888888, \"#fdca26\"], [1.0, \"#f0f921\"]], \"type\": \"histogram2dcontour\"}], \"mesh3d\": [{\"colorbar\": {\"outlinewidth\": 0, \"ticks\": \"\"}, \"type\": \"mesh3d\"}], \"parcoords\": [{\"line\": {\"colorbar\": {\"outlinewidth\": 0, \"ticks\": \"\"}}, \"type\": \"parcoords\"}], \"pie\": [{\"automargin\": true, \"type\": \"pie\"}], \"scatter\": [{\"marker\": {\"colorbar\": {\"outlinewidth\": 0, \"ticks\": \"\"}}, \"type\": \"scatter\"}], \"scatter3d\": [{\"line\": {\"colorbar\": {\"outlinewidth\": 0, \"ticks\": \"\"}}, \"marker\": {\"colorbar\": {\"outlinewidth\": 0, \"ticks\": \"\"}}, \"type\": \"scatter3d\"}], \"scattercarpet\": [{\"marker\": {\"colorbar\": {\"outlinewidth\": 0, \"ticks\": \"\"}}, \"type\": \"scattercarpet\"}], \"scattergeo\": [{\"marker\": {\"colorbar\": {\"outlinewidth\": 0, \"ticks\": \"\"}}, \"type\": \"scattergeo\"}], \"scattergl\": [{\"marker\": {\"colorbar\": {\"outlinewidth\": 0, \"ticks\": \"\"}}, \"type\": \"scattergl\"}], \"scattermapbox\": [{\"marker\": {\"colorbar\": {\"outlinewidth\": 0, \"ticks\": \"\"}}, \"type\": \"scattermapbox\"}], \"scatterpolar\": [{\"marker\": {\"colorbar\": {\"outlinewidth\": 0, \"ticks\": \"\"}}, \"type\": \"scatterpolar\"}], \"scatterpolargl\": [{\"marker\": {\"colorbar\": {\"outlinewidth\": 0, \"ticks\": \"\"}}, \"type\": \"scatterpolargl\"}], \"scatterternary\": [{\"marker\": {\"colorbar\": {\"outlinewidth\": 0, \"ticks\": \"\"}}, \"type\": \"scatterternary\"}], \"surface\": [{\"colorbar\": {\"outlinewidth\": 0, \"ticks\": \"\"}, \"colorscale\": [[0.0, \"#0d0887\"], [0.1111111111111111, \"#46039f\"], [0.2222222222222222, \"#7201a8\"], [0.3333333333333333, \"#9c179e\"], [0.4444444444444444, \"#bd3786\"], [0.5555555555555556, \"#d8576b\"], [0.6666666666666666, \"#ed7953\"], [0.7777777777777778, \"#fb9f3a\"], [0.8888888888888888, \"#fdca26\"], [1.0, \"#f0f921\"]], \"type\": \"surface\"}], \"table\": [{\"cells\": {\"fill\": {\"color\": \"#EBF0F8\"}, \"line\": {\"color\": \"white\"}}, \"header\": {\"fill\": {\"color\": \"#C8D4E3\"}, \"line\": {\"color\": \"white\"}}, \"type\": \"table\"}]}, \"layout\": {\"annotationdefaults\": {\"arrowcolor\": \"#2a3f5f\", \"arrowhead\": 0, \"arrowwidth\": 1}, \"coloraxis\": {\"colorbar\": {\"outlinewidth\": 0, \"ticks\": \"\"}}, \"colorscale\": {\"diverging\": [[0, \"#8e0152\"], [0.1, \"#c51b7d\"], [0.2, \"#de77ae\"], [0.3, \"#f1b6da\"], [0.4, \"#fde0ef\"], [0.5, \"#f7f7f7\"], [0.6, \"#e6f5d0\"], [0.7, \"#b8e186\"], [0.8, \"#7fbc41\"], [0.9, \"#4d9221\"], [1, \"#276419\"]], \"sequential\": [[0.0, \"#0d0887\"], [0.1111111111111111, \"#46039f\"], [0.2222222222222222, \"#7201a8\"], [0.3333333333333333, \"#9c179e\"], [0.4444444444444444, \"#bd3786\"], [0.5555555555555556, \"#d8576b\"], [0.6666666666666666, \"#ed7953\"], [0.7777777777777778, \"#fb9f3a\"], [0.8888888888888888, \"#fdca26\"], [1.0, \"#f0f921\"]], \"sequentialminus\": [[0.0, \"#0d0887\"], [0.1111111111111111, \"#46039f\"], [0.2222222222222222, \"#7201a8\"], [0.3333333333333333, \"#9c179e\"], [0.4444444444444444, \"#bd3786\"], [0.5555555555555556, \"#d8576b\"], [0.6666666666666666, \"#ed7953\"], [0.7777777777777778, \"#fb9f3a\"], [0.8888888888888888, \"#fdca26\"], [1.0, \"#f0f921\"]]}, \"colorway\": [\"#636efa\", \"#EF553B\", \"#00cc96\", \"#ab63fa\", \"#FFA15A\", \"#19d3f3\", \"#FF6692\", \"#B6E880\", \"#FF97FF\", \"#FECB52\"], \"font\": {\"color\": \"#2a3f5f\"}, \"geo\": {\"bgcolor\": \"white\", \"lakecolor\": \"white\", \"landcolor\": \"#E5ECF6\", \"showlakes\": true, \"showland\": true, \"subunitcolor\": \"white\"}, \"hoverlabel\": {\"align\": \"left\"}, \"hovermode\": \"closest\", \"mapbox\": {\"style\": \"light\"}, \"paper_bgcolor\": \"white\", \"plot_bgcolor\": \"#E5ECF6\", \"polar\": {\"angularaxis\": {\"gridcolor\": \"white\", \"linecolor\": \"white\", \"ticks\": \"\"}, \"bgcolor\": \"#E5ECF6\", \"radialaxis\": {\"gridcolor\": \"white\", \"linecolor\": \"white\", \"ticks\": \"\"}}, \"scene\": {\"xaxis\": {\"backgroundcolor\": \"#E5ECF6\", \"gridcolor\": \"white\", \"gridwidth\": 2, \"linecolor\": \"white\", \"showbackground\": true, \"ticks\": \"\", \"zerolinecolor\": \"white\"}, \"yaxis\": {\"backgroundcolor\": \"#E5ECF6\", \"gridcolor\": \"white\", \"gridwidth\": 2, \"linecolor\": \"white\", \"showbackground\": true, \"ticks\": \"\", \"zerolinecolor\": \"white\"}, \"zaxis\": {\"backgroundcolor\": \"#E5ECF6\", \"gridcolor\": \"white\", \"gridwidth\": 2, \"linecolor\": \"white\", \"showbackground\": true, \"ticks\": \"\", \"zerolinecolor\": \"white\"}}, \"shapedefaults\": {\"line\": {\"color\": \"#2a3f5f\"}}, \"ternary\": {\"aaxis\": {\"gridcolor\": \"white\", \"linecolor\": \"white\", \"ticks\": \"\"}, \"baxis\": {\"gridcolor\": \"white\", \"linecolor\": \"white\", \"ticks\": \"\"}, \"bgcolor\": \"#E5ECF6\", \"caxis\": {\"gridcolor\": \"white\", \"linecolor\": \"white\", \"ticks\": \"\"}}, \"title\": {\"x\": 0.05}, \"xaxis\": {\"automargin\": true, \"gridcolor\": \"white\", \"linecolor\": \"white\", \"ticks\": \"\", \"title\": {\"standoff\": 15}, \"zerolinecolor\": \"white\", \"zerolinewidth\": 2}, \"yaxis\": {\"automargin\": true, \"gridcolor\": \"white\", \"linecolor\": \"white\", \"ticks\": \"\", \"title\": {\"standoff\": 15}, \"zerolinecolor\": \"white\", \"zerolinewidth\": 2}}}, \"title\": {\"text\": \"CNN without image size training\"}, \"xaxis\": {\"title\": {\"text\": \"Epoch\"}}, \"yaxis\": {\"title\": {\"text\": \"Loss & Accuracy(%)/100\"}}},\n",
              "                        {\"responsive\": true}\n",
              "                    ).then(function(){\n",
              "                            \n",
              "var gd = document.getElementById('84d3157e-fa23-4062-87a3-a49ebb94fbc9');\n",
              "var x = new MutationObserver(function (mutations, observer) {{\n",
              "        var display = window.getComputedStyle(gd).display;\n",
              "        if (!display || display === 'none') {{\n",
              "            console.log([gd, 'removed!']);\n",
              "            Plotly.purge(gd);\n",
              "            observer.disconnect();\n",
              "        }}\n",
              "}});\n",
              "\n",
              "// Listen for the removal of the full notebook cells\n",
              "var notebookContainer = gd.closest('#notebook-container');\n",
              "if (notebookContainer) {{\n",
              "    x.observe(notebookContainer, {childList: true});\n",
              "}}\n",
              "\n",
              "// Listen for the clearing of the current output cell\n",
              "var outputEl = gd.closest('.output');\n",
              "if (outputEl) {{\n",
              "    x.observe(outputEl, {childList: true});\n",
              "}}\n",
              "\n",
              "                        })\n",
              "                };\n",
              "                \n",
              "            </script>\n",
              "        </div>\n",
              "</body>\n",
              "</html>"
            ]
          },
          "metadata": {
            "tags": []
          }
        }
      ]
    },
    {
      "cell_type": "markdown",
      "metadata": {
        "id": "3Gv7p5rij-zY"
      },
      "source": [
        "## 8.3- Training performance with image size"
      ]
    },
    {
      "cell_type": "code",
      "metadata": {
        "colab": {
          "base_uri": "https://localhost:8080/",
          "height": 542
        },
        "id": "-EWZwvIxjyBz",
        "outputId": "f92b451c-6441-4fc8-95ca-f08ea1014aa7"
      },
      "source": [
        "x = np.arange(len(exp_dict_wsize['train_loss']))\n",
        "\n",
        "fig = go.Figure()\n",
        "fig.add_trace(go.Scatter(x=x, y=exp_dict_wsize['train_loss'],\n",
        "                    mode='lines',\n",
        "                    name='train_loss'))\n",
        "fig.add_trace(go.Scatter(x=x, y=exp_dict_wsize['validation_loss'],\n",
        "                    mode='lines',\n",
        "                    name='validation_loss'))\n",
        "fig.add_trace(go.Scatter(x=x, y=[n/100 for n in exp_dict_wsize['validation_accuracy']],\n",
        "                    mode='lines',\n",
        "                    name='validation_accuracy'))\n",
        "fig.update_layout(title='CNN with image size training',\n",
        "                   xaxis_title='Epoch',\n",
        "                   yaxis_title='Loss & Accuracy(%)/100')\n",
        "fig.show()"
      ],
      "execution_count": 37,
      "outputs": [
        {
          "output_type": "display_data",
          "data": {
            "text/html": [
              "<html>\n",
              "<head><meta charset=\"utf-8\" /></head>\n",
              "<body>\n",
              "    <div>\n",
              "            <script src=\"https://cdnjs.cloudflare.com/ajax/libs/mathjax/2.7.5/MathJax.js?config=TeX-AMS-MML_SVG\"></script><script type=\"text/javascript\">if (window.MathJax) {MathJax.Hub.Config({SVG: {font: \"STIX-Web\"}});}</script>\n",
              "                <script type=\"text/javascript\">window.PlotlyConfig = {MathJaxConfig: 'local'};</script>\n",
              "        <script src=\"https://cdn.plot.ly/plotly-latest.min.js\"></script>    \n",
              "            <div id=\"45682546-72d1-40c7-8a5d-73873de2ebcf\" class=\"plotly-graph-div\" style=\"height:525px; width:100%;\"></div>\n",
              "            <script type=\"text/javascript\">\n",
              "                \n",
              "                    window.PLOTLYENV=window.PLOTLYENV || {};\n",
              "                    \n",
              "                if (document.getElementById(\"45682546-72d1-40c7-8a5d-73873de2ebcf\")) {\n",
              "                    Plotly.newPlot(\n",
              "                        '45682546-72d1-40c7-8a5d-73873de2ebcf',\n",
              "                        [{\"mode\": \"lines\", \"name\": \"train_loss\", \"type\": \"scatter\", \"x\": [0, 1, 2, 3, 4, 5, 6, 7, 8, 9, 10, 11, 12, 13, 14, 15, 16, 17, 18, 19, 20, 21, 22, 23], \"y\": [0.6517911237828872, 0.5489656679770526, 0.5001429249258602, 0.4813641485045938, 0.45229796802296357, 0.43118712306022644, 0.43867749326369343, 0.4168694475117852, 0.38603975667672996, 0.3901824407717761, 0.3573947215781492, 0.3256607827018289, 0.33517080896040974, 0.307838153313188, 0.2627362661501941, 0.23882543602410486, 0.21603876790579626, 0.20387734034482172, 0.18102641841944525, 0.1390226176556419, 0.13061820869060123, 0.10291511280571713, 0.09865085890187937, 0.08231819245745153]}, {\"mode\": \"lines\", \"name\": \"validation_loss\", \"type\": \"scatter\", \"x\": [0, 1, 2, 3, 4, 5, 6, 7, 8, 9, 10, 11, 12, 13, 14, 15, 16, 17, 18, 19, 20, 21, 22, 23], \"y\": [0.5728719830513, 0.5012428164482117, 0.48966172337532043, 0.43689924478530884, 0.4197536110877991, 0.40306025743484497, 0.4041006565093994, 0.3753998875617981, 0.3704555928707123, 0.36076003313064575, 0.3287675678730011, 0.3028712868690491, 0.3277858793735504, 0.3070923388004303, 0.3017127215862274, 0.3093020021915436, 0.30911535024642944, 0.3361659348011017, 0.3480851650238037, 0.472648948431015, 0.42977890372276306, 0.38829919695854187, 0.398516446352005, 0.4770013391971588]}, {\"mode\": \"lines\", \"name\": \"validation_accuracy\", \"type\": \"scatter\", \"x\": [0, 1, 2, 3, 4, 5, 6, 7, 8, 9, 10, 11, 12, 13, 14, 15, 16, 17, 18, 19, 20, 21, 22, 23], \"y\": [0.593582878112793, 0.7397504425048829, 0.7718360137939453, 0.7914438629150391, 0.8092691802978516, 0.8217469024658203, 0.8074866485595703, 0.8306595611572266, 0.8449198150634766, 0.855615005493164, 0.8538324737548828, 0.8734403228759766, 0.8591800689697265, 0.8770053100585937, 0.8716577911376953, 0.869875259399414, 0.8716577911376953, 0.8680927276611328, 0.8805703735351562, 0.8413547515869141, 0.8591800689697265, 0.8716577911376953, 0.869875259399414, 0.8752227783203125]}],\n",
              "                        {\"template\": {\"data\": {\"bar\": [{\"error_x\": {\"color\": \"#2a3f5f\"}, \"error_y\": {\"color\": \"#2a3f5f\"}, \"marker\": {\"line\": {\"color\": \"#E5ECF6\", \"width\": 0.5}}, \"type\": \"bar\"}], \"barpolar\": [{\"marker\": {\"line\": {\"color\": \"#E5ECF6\", \"width\": 0.5}}, \"type\": \"barpolar\"}], \"carpet\": [{\"aaxis\": {\"endlinecolor\": \"#2a3f5f\", \"gridcolor\": \"white\", \"linecolor\": \"white\", \"minorgridcolor\": \"white\", \"startlinecolor\": \"#2a3f5f\"}, \"baxis\": {\"endlinecolor\": \"#2a3f5f\", \"gridcolor\": \"white\", \"linecolor\": \"white\", \"minorgridcolor\": \"white\", \"startlinecolor\": \"#2a3f5f\"}, \"type\": \"carpet\"}], \"choropleth\": [{\"colorbar\": {\"outlinewidth\": 0, \"ticks\": \"\"}, \"type\": \"choropleth\"}], \"contour\": [{\"colorbar\": {\"outlinewidth\": 0, \"ticks\": \"\"}, \"colorscale\": [[0.0, \"#0d0887\"], [0.1111111111111111, \"#46039f\"], [0.2222222222222222, \"#7201a8\"], [0.3333333333333333, \"#9c179e\"], [0.4444444444444444, \"#bd3786\"], [0.5555555555555556, \"#d8576b\"], [0.6666666666666666, \"#ed7953\"], [0.7777777777777778, \"#fb9f3a\"], [0.8888888888888888, \"#fdca26\"], [1.0, \"#f0f921\"]], \"type\": \"contour\"}], \"contourcarpet\": [{\"colorbar\": {\"outlinewidth\": 0, \"ticks\": \"\"}, \"type\": \"contourcarpet\"}], \"heatmap\": [{\"colorbar\": {\"outlinewidth\": 0, \"ticks\": \"\"}, \"colorscale\": [[0.0, \"#0d0887\"], [0.1111111111111111, \"#46039f\"], [0.2222222222222222, \"#7201a8\"], [0.3333333333333333, \"#9c179e\"], [0.4444444444444444, \"#bd3786\"], [0.5555555555555556, \"#d8576b\"], [0.6666666666666666, \"#ed7953\"], [0.7777777777777778, \"#fb9f3a\"], [0.8888888888888888, \"#fdca26\"], [1.0, \"#f0f921\"]], \"type\": \"heatmap\"}], \"heatmapgl\": [{\"colorbar\": {\"outlinewidth\": 0, \"ticks\": \"\"}, \"colorscale\": [[0.0, \"#0d0887\"], [0.1111111111111111, \"#46039f\"], [0.2222222222222222, \"#7201a8\"], [0.3333333333333333, \"#9c179e\"], [0.4444444444444444, \"#bd3786\"], [0.5555555555555556, \"#d8576b\"], [0.6666666666666666, \"#ed7953\"], [0.7777777777777778, \"#fb9f3a\"], [0.8888888888888888, \"#fdca26\"], [1.0, \"#f0f921\"]], \"type\": \"heatmapgl\"}], \"histogram\": [{\"marker\": {\"colorbar\": {\"outlinewidth\": 0, \"ticks\": \"\"}}, \"type\": \"histogram\"}], \"histogram2d\": [{\"colorbar\": {\"outlinewidth\": 0, \"ticks\": \"\"}, \"colorscale\": [[0.0, \"#0d0887\"], [0.1111111111111111, \"#46039f\"], [0.2222222222222222, \"#7201a8\"], [0.3333333333333333, \"#9c179e\"], [0.4444444444444444, \"#bd3786\"], [0.5555555555555556, \"#d8576b\"], [0.6666666666666666, \"#ed7953\"], [0.7777777777777778, \"#fb9f3a\"], [0.8888888888888888, \"#fdca26\"], [1.0, \"#f0f921\"]], \"type\": \"histogram2d\"}], \"histogram2dcontour\": [{\"colorbar\": {\"outlinewidth\": 0, \"ticks\": \"\"}, \"colorscale\": [[0.0, \"#0d0887\"], [0.1111111111111111, \"#46039f\"], [0.2222222222222222, \"#7201a8\"], [0.3333333333333333, \"#9c179e\"], [0.4444444444444444, \"#bd3786\"], [0.5555555555555556, \"#d8576b\"], [0.6666666666666666, \"#ed7953\"], [0.7777777777777778, \"#fb9f3a\"], [0.8888888888888888, \"#fdca26\"], [1.0, \"#f0f921\"]], \"type\": \"histogram2dcontour\"}], \"mesh3d\": [{\"colorbar\": {\"outlinewidth\": 0, \"ticks\": \"\"}, \"type\": \"mesh3d\"}], \"parcoords\": [{\"line\": {\"colorbar\": {\"outlinewidth\": 0, \"ticks\": \"\"}}, \"type\": \"parcoords\"}], \"pie\": [{\"automargin\": true, \"type\": \"pie\"}], \"scatter\": [{\"marker\": {\"colorbar\": {\"outlinewidth\": 0, \"ticks\": \"\"}}, \"type\": \"scatter\"}], \"scatter3d\": [{\"line\": {\"colorbar\": {\"outlinewidth\": 0, \"ticks\": \"\"}}, \"marker\": {\"colorbar\": {\"outlinewidth\": 0, \"ticks\": \"\"}}, \"type\": \"scatter3d\"}], \"scattercarpet\": [{\"marker\": {\"colorbar\": {\"outlinewidth\": 0, \"ticks\": \"\"}}, \"type\": \"scattercarpet\"}], \"scattergeo\": [{\"marker\": {\"colorbar\": {\"outlinewidth\": 0, \"ticks\": \"\"}}, \"type\": \"scattergeo\"}], \"scattergl\": [{\"marker\": {\"colorbar\": {\"outlinewidth\": 0, \"ticks\": \"\"}}, \"type\": \"scattergl\"}], \"scattermapbox\": [{\"marker\": {\"colorbar\": {\"outlinewidth\": 0, \"ticks\": \"\"}}, \"type\": \"scattermapbox\"}], \"scatterpolar\": [{\"marker\": {\"colorbar\": {\"outlinewidth\": 0, \"ticks\": \"\"}}, \"type\": \"scatterpolar\"}], \"scatterpolargl\": [{\"marker\": {\"colorbar\": {\"outlinewidth\": 0, \"ticks\": \"\"}}, \"type\": \"scatterpolargl\"}], \"scatterternary\": [{\"marker\": {\"colorbar\": {\"outlinewidth\": 0, \"ticks\": \"\"}}, \"type\": \"scatterternary\"}], \"surface\": [{\"colorbar\": {\"outlinewidth\": 0, \"ticks\": \"\"}, \"colorscale\": [[0.0, \"#0d0887\"], [0.1111111111111111, \"#46039f\"], [0.2222222222222222, \"#7201a8\"], [0.3333333333333333, \"#9c179e\"], [0.4444444444444444, \"#bd3786\"], [0.5555555555555556, \"#d8576b\"], [0.6666666666666666, \"#ed7953\"], [0.7777777777777778, \"#fb9f3a\"], [0.8888888888888888, \"#fdca26\"], [1.0, \"#f0f921\"]], \"type\": \"surface\"}], \"table\": [{\"cells\": {\"fill\": {\"color\": \"#EBF0F8\"}, \"line\": {\"color\": \"white\"}}, \"header\": {\"fill\": {\"color\": \"#C8D4E3\"}, \"line\": {\"color\": \"white\"}}, \"type\": \"table\"}]}, \"layout\": {\"annotationdefaults\": {\"arrowcolor\": \"#2a3f5f\", \"arrowhead\": 0, \"arrowwidth\": 1}, \"coloraxis\": {\"colorbar\": {\"outlinewidth\": 0, \"ticks\": \"\"}}, \"colorscale\": {\"diverging\": [[0, \"#8e0152\"], [0.1, \"#c51b7d\"], [0.2, \"#de77ae\"], [0.3, \"#f1b6da\"], [0.4, \"#fde0ef\"], [0.5, \"#f7f7f7\"], [0.6, \"#e6f5d0\"], [0.7, \"#b8e186\"], [0.8, \"#7fbc41\"], [0.9, \"#4d9221\"], [1, \"#276419\"]], \"sequential\": [[0.0, \"#0d0887\"], [0.1111111111111111, \"#46039f\"], [0.2222222222222222, \"#7201a8\"], [0.3333333333333333, \"#9c179e\"], [0.4444444444444444, \"#bd3786\"], [0.5555555555555556, \"#d8576b\"], [0.6666666666666666, \"#ed7953\"], [0.7777777777777778, \"#fb9f3a\"], [0.8888888888888888, \"#fdca26\"], [1.0, \"#f0f921\"]], \"sequentialminus\": [[0.0, \"#0d0887\"], [0.1111111111111111, \"#46039f\"], [0.2222222222222222, \"#7201a8\"], [0.3333333333333333, \"#9c179e\"], [0.4444444444444444, \"#bd3786\"], [0.5555555555555556, \"#d8576b\"], [0.6666666666666666, \"#ed7953\"], [0.7777777777777778, \"#fb9f3a\"], [0.8888888888888888, \"#fdca26\"], [1.0, \"#f0f921\"]]}, \"colorway\": [\"#636efa\", \"#EF553B\", \"#00cc96\", \"#ab63fa\", \"#FFA15A\", \"#19d3f3\", \"#FF6692\", \"#B6E880\", \"#FF97FF\", \"#FECB52\"], \"font\": {\"color\": \"#2a3f5f\"}, \"geo\": {\"bgcolor\": \"white\", \"lakecolor\": \"white\", \"landcolor\": \"#E5ECF6\", \"showlakes\": true, \"showland\": true, \"subunitcolor\": \"white\"}, \"hoverlabel\": {\"align\": \"left\"}, \"hovermode\": \"closest\", \"mapbox\": {\"style\": \"light\"}, \"paper_bgcolor\": \"white\", \"plot_bgcolor\": \"#E5ECF6\", \"polar\": {\"angularaxis\": {\"gridcolor\": \"white\", \"linecolor\": \"white\", \"ticks\": \"\"}, \"bgcolor\": \"#E5ECF6\", \"radialaxis\": {\"gridcolor\": \"white\", \"linecolor\": \"white\", \"ticks\": \"\"}}, \"scene\": {\"xaxis\": {\"backgroundcolor\": \"#E5ECF6\", \"gridcolor\": \"white\", \"gridwidth\": 2, \"linecolor\": \"white\", \"showbackground\": true, \"ticks\": \"\", \"zerolinecolor\": \"white\"}, \"yaxis\": {\"backgroundcolor\": \"#E5ECF6\", \"gridcolor\": \"white\", \"gridwidth\": 2, \"linecolor\": \"white\", \"showbackground\": true, \"ticks\": \"\", \"zerolinecolor\": \"white\"}, \"zaxis\": {\"backgroundcolor\": \"#E5ECF6\", \"gridcolor\": \"white\", \"gridwidth\": 2, \"linecolor\": \"white\", \"showbackground\": true, \"ticks\": \"\", \"zerolinecolor\": \"white\"}}, \"shapedefaults\": {\"line\": {\"color\": \"#2a3f5f\"}}, \"ternary\": {\"aaxis\": {\"gridcolor\": \"white\", \"linecolor\": \"white\", \"ticks\": \"\"}, \"baxis\": {\"gridcolor\": \"white\", \"linecolor\": \"white\", \"ticks\": \"\"}, \"bgcolor\": \"#E5ECF6\", \"caxis\": {\"gridcolor\": \"white\", \"linecolor\": \"white\", \"ticks\": \"\"}}, \"title\": {\"x\": 0.05}, \"xaxis\": {\"automargin\": true, \"gridcolor\": \"white\", \"linecolor\": \"white\", \"ticks\": \"\", \"title\": {\"standoff\": 15}, \"zerolinecolor\": \"white\", \"zerolinewidth\": 2}, \"yaxis\": {\"automargin\": true, \"gridcolor\": \"white\", \"linecolor\": \"white\", \"ticks\": \"\", \"title\": {\"standoff\": 15}, \"zerolinecolor\": \"white\", \"zerolinewidth\": 2}}}, \"title\": {\"text\": \"CNN with image size training\"}, \"xaxis\": {\"title\": {\"text\": \"Epoch\"}}, \"yaxis\": {\"title\": {\"text\": \"Loss & Accuracy(%)/100\"}}},\n",
              "                        {\"responsive\": true}\n",
              "                    ).then(function(){\n",
              "                            \n",
              "var gd = document.getElementById('45682546-72d1-40c7-8a5d-73873de2ebcf');\n",
              "var x = new MutationObserver(function (mutations, observer) {{\n",
              "        var display = window.getComputedStyle(gd).display;\n",
              "        if (!display || display === 'none') {{\n",
              "            console.log([gd, 'removed!']);\n",
              "            Plotly.purge(gd);\n",
              "            observer.disconnect();\n",
              "        }}\n",
              "}});\n",
              "\n",
              "// Listen for the removal of the full notebook cells\n",
              "var notebookContainer = gd.closest('#notebook-container');\n",
              "if (notebookContainer) {{\n",
              "    x.observe(notebookContainer, {childList: true});\n",
              "}}\n",
              "\n",
              "// Listen for the clearing of the current output cell\n",
              "var outputEl = gd.closest('.output');\n",
              "if (outputEl) {{\n",
              "    x.observe(outputEl, {childList: true});\n",
              "}}\n",
              "\n",
              "                        })\n",
              "                };\n",
              "                \n",
              "            </script>\n",
              "        </div>\n",
              "</body>\n",
              "</html>"
            ]
          },
          "metadata": {
            "tags": []
          }
        }
      ]
    },
    {
      "cell_type": "markdown",
      "metadata": {
        "id": "jhiXkumljXmx"
      },
      "source": [
        "When comparing both plots it is salient that when using the image size as an input the net performs better in therms of validation loss and accuracy, and overfitting is less pronounced in the range of epochs used.\n"
      ]
    },
    {
      "cell_type": "markdown",
      "metadata": {
        "id": "TPnG29CQzPeh"
      },
      "source": [
        "# 9- Ideas for the future"
      ]
    },
    {
      "cell_type": "markdown",
      "metadata": {
        "id": "3KMtkyqPzSiN"
      },
      "source": [
        "Some evident improvement ideas were not explored along this notebook:\n",
        "\n",
        "* The optimisation of hyperparameters.\n",
        "* The restructuring of the net architecture to fit the image size input in an earlier layer, looking for synergies wiht other features.\n",
        "\n"
      ]
    }
  ]
}